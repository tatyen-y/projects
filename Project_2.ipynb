{
  "cells": [
    {
      "cell_type": "markdown",
      "id": "42289889-bd57-434e-9637-d3e354756316",
      "metadata": {
        "id": "42289889-bd57-434e-9637-d3e354756316"
      },
      "source": [
        "<center> <img src = https://raw.githubusercontent.com/AndreyRysistov/DatasetsForPandas/main/hh%20label.jpg alt=\"drawing\" style=\"width:400px;\">"
      ]
    },
    {
      "cell_type": "markdown",
      "id": "829cb75b-f14e-4ba8-9195-7ba929a7d656",
      "metadata": {
        "id": "829cb75b-f14e-4ba8-9195-7ba929a7d656",
        "tags": []
      },
      "source": [
        "# <center> Проект: Анализ вакансий из HeadHunter\n",
        "   "
      ]
    },
    {
      "cell_type": "code",
      "execution_count": 154,
      "id": "dccfde33-2452-43fb-a8a5-5c6ebc02a71d",
      "metadata": {
        "id": "dccfde33-2452-43fb-a8a5-5c6ebc02a71d"
      },
      "outputs": [],
      "source": [
        "import pandas as pd\n",
        "import psycopg2\n"
      ]
    },
    {
      "cell_type": "code",
      "execution_count": 155,
      "id": "G4X_q8KBf7SF",
      "metadata": {
        "id": "G4X_q8KBf7SF"
      },
      "outputs": [],
      "source": [
        "connection = psycopg2.connect(\n",
        "    dbname=DBNAME,\n",
        "    user=USER,\n",
        "    host=HOST,\n",
        "    password=PASSWORD,\n",
        "    port=PORT\n",
        ")\n",
        "# отключаем предупреждения\n",
        "import warnings\n",
        "warnings.filterwarnings('ignore')\n"
      ]
    },
    {
      "cell_type": "markdown",
      "id": "0dc6476b-7a00-44f1-ac93-6e3baed33a29",
      "metadata": {
        "id": "0dc6476b-7a00-44f1-ac93-6e3baed33a29"
      },
      "source": [
        "# Юнит 3. Предварительный анализ данных"
      ]
    },
    {
      "cell_type": "markdown",
      "id": "889782b6-8d1c-410e-8920-e57f27917c64",
      "metadata": {
        "id": "889782b6-8d1c-410e-8920-e57f27917c64"
      },
      "source": [
        "1. Напишите запрос, который посчитает количество вакансий в нашей базе (вакансии находятся в таблице vacancies). "
      ]
    },
    {
      "cell_type": "code",
      "execution_count": 156,
      "id": "bc39e68e-ed02-4ee2-9235-7258a2f867a8",
      "metadata": {
        "id": "bc39e68e-ed02-4ee2-9235-7258a2f867a8"
      },
      "outputs": [],
      "source": [
        "# Считаем число вакансий по id.\n",
        "query_3_1 = '''select count(id) from vacancies'''\n"
      ]
    },
    {
      "cell_type": "code",
      "execution_count": 157,
      "id": "7mAwtsk4hEHY",
      "metadata": {
        "id": "7mAwtsk4hEHY"
      },
      "outputs": [
        {
          "data": {
            "text/html": [
              "<div>\n",
              "<style scoped>\n",
              "    .dataframe tbody tr th:only-of-type {\n",
              "        vertical-align: middle;\n",
              "    }\n",
              "\n",
              "    .dataframe tbody tr th {\n",
              "        vertical-align: top;\n",
              "    }\n",
              "\n",
              "    .dataframe thead th {\n",
              "        text-align: right;\n",
              "    }\n",
              "</style>\n",
              "<table border=\"1\" class=\"dataframe\">\n",
              "  <thead>\n",
              "    <tr style=\"text-align: right;\">\n",
              "      <th></th>\n",
              "      <th>count</th>\n",
              "    </tr>\n",
              "  </thead>\n",
              "  <tbody>\n",
              "    <tr>\n",
              "      <th>0</th>\n",
              "      <td>49197</td>\n",
              "    </tr>\n",
              "  </tbody>\n",
              "</table>\n",
              "</div>"
            ],
            "text/plain": [
              "   count\n",
              "0  49197"
            ]
          },
          "execution_count": 157,
          "metadata": {},
          "output_type": "execute_result"
        }
      ],
      "source": [
        "# Используем метод read_sql_query, чтобы получить результаты запроса сразу в виде строки датафрейма.\n",
        "df = pd.read_sql_query(query_3_1, connection)\n",
        "df"
      ]
    },
    {
      "cell_type": "markdown",
      "id": "b583485d-1f9e-494e-ada4-80ffff7c53d6",
      "metadata": {
        "id": "b583485d-1f9e-494e-ada4-80ffff7c53d6"
      },
      "source": [
        "2. Напишите запрос, который посчитает количество работодателей (таблица employers). "
      ]
    },
    {
      "cell_type": "code",
      "execution_count": 158,
      "id": "5408c52c-3407-4a63-b25b-1aafa2322d28",
      "metadata": {
        "id": "5408c52c-3407-4a63-b25b-1aafa2322d28"
      },
      "outputs": [],
      "source": [
        "# Счиатем количество работодателей по их id.\n",
        "query_3_2 = '''select count(id) from public.EMPLOYERS'''\n"
      ]
    },
    {
      "cell_type": "code",
      "execution_count": 159,
      "id": "jVL4eshKhdqc",
      "metadata": {
        "id": "jVL4eshKhdqc"
      },
      "outputs": [
        {
          "data": {
            "text/html": [
              "<div>\n",
              "<style scoped>\n",
              "    .dataframe tbody tr th:only-of-type {\n",
              "        vertical-align: middle;\n",
              "    }\n",
              "\n",
              "    .dataframe tbody tr th {\n",
              "        vertical-align: top;\n",
              "    }\n",
              "\n",
              "    .dataframe thead th {\n",
              "        text-align: right;\n",
              "    }\n",
              "</style>\n",
              "<table border=\"1\" class=\"dataframe\">\n",
              "  <thead>\n",
              "    <tr style=\"text-align: right;\">\n",
              "      <th></th>\n",
              "      <th>count</th>\n",
              "    </tr>\n",
              "  </thead>\n",
              "  <tbody>\n",
              "    <tr>\n",
              "      <th>0</th>\n",
              "      <td>23501</td>\n",
              "    </tr>\n",
              "  </tbody>\n",
              "</table>\n",
              "</div>"
            ],
            "text/plain": [
              "   count\n",
              "0  23501"
            ]
          },
          "execution_count": 159,
          "metadata": {},
          "output_type": "execute_result"
        }
      ],
      "source": [
        "# Используем метод read_sql_query, чтобы получить результаты запроса сразу в виде строки датафрейма.\n",
        "df = pd.read_sql_query(query_3_2, connection)\n",
        "df"
      ]
    },
    {
      "cell_type": "markdown",
      "id": "a2bfff1f-c975-4bf6-84be-2185d79dcb76",
      "metadata": {
        "id": "a2bfff1f-c975-4bf6-84be-2185d79dcb76"
      },
      "source": [
        "3. Посчитате с помощью запроса количество регионов (таблица areas)."
      ]
    },
    {
      "cell_type": "code",
      "execution_count": 160,
      "id": "1m8QJwBYhey6",
      "metadata": {
        "id": "1m8QJwBYhey6"
      },
      "outputs": [],
      "source": [
        "# Считаем количество регионов по их id.\n",
        "query_3_3 = '''select count(id) from areas'''"
      ]
    },
    {
      "cell_type": "code",
      "execution_count": 161,
      "id": "EZsn9tlfhe7f",
      "metadata": {
        "id": "EZsn9tlfhe7f"
      },
      "outputs": [
        {
          "data": {
            "text/html": [
              "<div>\n",
              "<style scoped>\n",
              "    .dataframe tbody tr th:only-of-type {\n",
              "        vertical-align: middle;\n",
              "    }\n",
              "\n",
              "    .dataframe tbody tr th {\n",
              "        vertical-align: top;\n",
              "    }\n",
              "\n",
              "    .dataframe thead th {\n",
              "        text-align: right;\n",
              "    }\n",
              "</style>\n",
              "<table border=\"1\" class=\"dataframe\">\n",
              "  <thead>\n",
              "    <tr style=\"text-align: right;\">\n",
              "      <th></th>\n",
              "      <th>count</th>\n",
              "    </tr>\n",
              "  </thead>\n",
              "  <tbody>\n",
              "    <tr>\n",
              "      <th>0</th>\n",
              "      <td>1362</td>\n",
              "    </tr>\n",
              "  </tbody>\n",
              "</table>\n",
              "</div>"
            ],
            "text/plain": [
              "   count\n",
              "0   1362"
            ]
          },
          "execution_count": 161,
          "metadata": {},
          "output_type": "execute_result"
        }
      ],
      "source": [
        "# Используем метод read_sql_query, чтобы получить результаты запроса сразу в виде строки датафрейма\n",
        "df = pd.read_sql_query(query_3_3, connection)\n",
        "df"
      ]
    },
    {
      "cell_type": "markdown",
      "id": "41bb59f3-53cc-4a67-a5bc-bedf573955e4",
      "metadata": {
        "id": "41bb59f3-53cc-4a67-a5bc-bedf573955e4"
      },
      "source": [
        "4. Посчитате с помощью запроса количество сфер деятельности в базе (таблица industries)."
      ]
    },
    {
      "cell_type": "code",
      "execution_count": 162,
      "id": "d286cf4c-707b-4cd2-9190-7ab3587d04a1",
      "metadata": {
        "id": "d286cf4c-707b-4cd2-9190-7ab3587d04a1"
      },
      "outputs": [],
      "source": [
        "# Считаем количество сфер деятельности по их id.\n",
        "query_3_4 = '''select count(id) from industries'''\n"
      ]
    },
    {
      "cell_type": "code",
      "execution_count": 163,
      "id": "JYAaoZ4qhfzW",
      "metadata": {
        "id": "JYAaoZ4qhfzW"
      },
      "outputs": [
        {
          "data": {
            "text/html": [
              "<div>\n",
              "<style scoped>\n",
              "    .dataframe tbody tr th:only-of-type {\n",
              "        vertical-align: middle;\n",
              "    }\n",
              "\n",
              "    .dataframe tbody tr th {\n",
              "        vertical-align: top;\n",
              "    }\n",
              "\n",
              "    .dataframe thead th {\n",
              "        text-align: right;\n",
              "    }\n",
              "</style>\n",
              "<table border=\"1\" class=\"dataframe\">\n",
              "  <thead>\n",
              "    <tr style=\"text-align: right;\">\n",
              "      <th></th>\n",
              "      <th>count</th>\n",
              "    </tr>\n",
              "  </thead>\n",
              "  <tbody>\n",
              "    <tr>\n",
              "      <th>0</th>\n",
              "      <td>294</td>\n",
              "    </tr>\n",
              "  </tbody>\n",
              "</table>\n",
              "</div>"
            ],
            "text/plain": [
              "   count\n",
              "0    294"
            ]
          },
          "execution_count": 163,
          "metadata": {},
          "output_type": "execute_result"
        }
      ],
      "source": [
        "# Используем метод read_sql_query, чтобы получить результаты запроса сразу в виде строки датафрейма\n",
        "df = pd.read_sql_query(query_3_4, connection)\n",
        "df"
      ]
    },
    {
      "cell_type": "markdown",
      "id": "9a8a2181-6914-448b-85f1-38f5f18b8a93",
      "metadata": {
        "id": "9a8a2181-6914-448b-85f1-38f5f18b8a93"
      },
      "source": [
        "***"
      ]
    },
    {
      "attachments": {},
      "cell_type": "markdown",
      "id": "e3b15d0d",
      "metadata": {},
      "source": [
        "В базе находится почти 49197 вакансий при более, чем вдвое меньшем числе работодателей (23501), которые ищут специалистов из 294 сфер деятельности в 1362 регионах.  "
      ]
    },
    {
      "cell_type": "markdown",
      "id": "8d62a9f3-f64e-4fe7-bdac-c4dffa16155e",
      "metadata": {
        "id": "8d62a9f3-f64e-4fe7-bdac-c4dffa16155e"
      },
      "source": [
        "# Юнит 4. Детальный анализ вакансий"
      ]
    },
    {
      "cell_type": "markdown",
      "id": "93053d3d-b284-481a-9cf7-012d7014c0e0",
      "metadata": {
        "id": "93053d3d-b284-481a-9cf7-012d7014c0e0"
      },
      "source": [
        "1. Напишите запрос, который позволит узнать, сколько (cnt) вакансий в каждом регионе (area).\n",
        "Отсортируйте по количеству вакансий в порядке убывания."
      ]
    },
    {
      "cell_type": "code",
      "execution_count": 164,
      "id": "3f069da6-fdc9-4ae7-b514-fafe2675efd3",
      "metadata": {
        "id": "3f069da6-fdc9-4ae7-b514-fafe2675efd3"
      },
      "outputs": [],
      "source": [
        "# Соединяем базу с вакансиями и регионами (по ключу id региона), чтобы иметь и имена регионов, и возможность посчитать количество вакансий\n",
        "#  в них. Группируем по региону, упорядочиваем по убыванию.\n",
        "query_4_1 = '''\n",
        "        select \n",
        "            a.name area, \n",
        "            count(v.id) count \n",
        "        from \n",
        "            vacancies v\n",
        "            join areas a on a.id = v.area_id\n",
        "        group by 1\n",
        "        order by 2 desc\n",
        "            ''' \n"
      ]
    },
    {
      "cell_type": "code",
      "execution_count": 165,
      "id": "P7QL86hrjhRJ",
      "metadata": {
        "id": "P7QL86hrjhRJ"
      },
      "outputs": [
        {
          "data": {
            "text/html": [
              "<div>\n",
              "<style scoped>\n",
              "    .dataframe tbody tr th:only-of-type {\n",
              "        vertical-align: middle;\n",
              "    }\n",
              "\n",
              "    .dataframe tbody tr th {\n",
              "        vertical-align: top;\n",
              "    }\n",
              "\n",
              "    .dataframe thead th {\n",
              "        text-align: right;\n",
              "    }\n",
              "</style>\n",
              "<table border=\"1\" class=\"dataframe\">\n",
              "  <thead>\n",
              "    <tr style=\"text-align: right;\">\n",
              "      <th></th>\n",
              "      <th>area</th>\n",
              "      <th>count</th>\n",
              "    </tr>\n",
              "  </thead>\n",
              "  <tbody>\n",
              "    <tr>\n",
              "      <th>0</th>\n",
              "      <td>Москва</td>\n",
              "      <td>5333</td>\n",
              "    </tr>\n",
              "    <tr>\n",
              "      <th>1</th>\n",
              "      <td>Санкт-Петербург</td>\n",
              "      <td>2851</td>\n",
              "    </tr>\n",
              "    <tr>\n",
              "      <th>2</th>\n",
              "      <td>Минск</td>\n",
              "      <td>2112</td>\n",
              "    </tr>\n",
              "    <tr>\n",
              "      <th>3</th>\n",
              "      <td>Новосибирск</td>\n",
              "      <td>2006</td>\n",
              "    </tr>\n",
              "    <tr>\n",
              "      <th>4</th>\n",
              "      <td>Алматы</td>\n",
              "      <td>1892</td>\n",
              "    </tr>\n",
              "    <tr>\n",
              "      <th>...</th>\n",
              "      <td>...</td>\n",
              "      <td>...</td>\n",
              "    </tr>\n",
              "    <tr>\n",
              "      <th>764</th>\n",
              "      <td>Тарко-Сале</td>\n",
              "      <td>1</td>\n",
              "    </tr>\n",
              "    <tr>\n",
              "      <th>765</th>\n",
              "      <td>Новоаннинский</td>\n",
              "      <td>1</td>\n",
              "    </tr>\n",
              "    <tr>\n",
              "      <th>766</th>\n",
              "      <td>Бирск</td>\n",
              "      <td>1</td>\n",
              "    </tr>\n",
              "    <tr>\n",
              "      <th>767</th>\n",
              "      <td>Сасово</td>\n",
              "      <td>1</td>\n",
              "    </tr>\n",
              "    <tr>\n",
              "      <th>768</th>\n",
              "      <td>Анна</td>\n",
              "      <td>1</td>\n",
              "    </tr>\n",
              "  </tbody>\n",
              "</table>\n",
              "<p>769 rows × 2 columns</p>\n",
              "</div>"
            ],
            "text/plain": [
              "                area  count\n",
              "0             Москва   5333\n",
              "1    Санкт-Петербург   2851\n",
              "2              Минск   2112\n",
              "3        Новосибирск   2006\n",
              "4             Алматы   1892\n",
              "..               ...    ...\n",
              "764       Тарко-Сале      1\n",
              "765    Новоаннинский      1\n",
              "766            Бирск      1\n",
              "767           Сасово      1\n",
              "768             Анна      1\n",
              "\n",
              "[769 rows x 2 columns]"
            ]
          },
          "execution_count": 165,
          "metadata": {},
          "output_type": "execute_result"
        }
      ],
      "source": [
        "# Используем метод read_sql_query, чтобы получить результаты запроса сразу в виде датафрейма\n",
        "df = pd.read_sql_query(query_4_1, connection)\n",
        "df"
      ]
    },
    {
      "cell_type": "markdown",
      "id": "4266f0b6-1646-492a-88b4-2f6a46502135",
      "metadata": {
        "id": "4266f0b6-1646-492a-88b4-2f6a46502135"
      },
      "source": [
        "2. Напишите запрос, чтобы определить у какого количества вакансий заполнено хотя бы одно из двух полей с зарплатой."
      ]
    },
    {
      "cell_type": "code",
      "execution_count": 166,
      "id": "0c44b350-72eb-4d65-8b54-a1fc449ba9fd",
      "metadata": {
        "id": "0c44b350-72eb-4d65-8b54-a1fc449ba9fd"
      },
      "outputs": [],
      "source": [
        "#  Считаем число вакансий, используя фильтрацию where: берем в расчет только те вакансии, \n",
        "# где хотя бы одно из полей с зарплатой не пустое.\n",
        "query_4_2 = '''\n",
        "        select \n",
        "            count(id) \n",
        "        from \n",
        "            vacancies \n",
        "        where \n",
        "            salary_from is not null \n",
        "            or salary_to is not null\n",
        "            '''\n"
      ]
    },
    {
      "cell_type": "code",
      "execution_count": 167,
      "id": "rhvwaMDkoWTi",
      "metadata": {
        "id": "rhvwaMDkoWTi"
      },
      "outputs": [
        {
          "data": {
            "text/html": [
              "<div>\n",
              "<style scoped>\n",
              "    .dataframe tbody tr th:only-of-type {\n",
              "        vertical-align: middle;\n",
              "    }\n",
              "\n",
              "    .dataframe tbody tr th {\n",
              "        vertical-align: top;\n",
              "    }\n",
              "\n",
              "    .dataframe thead th {\n",
              "        text-align: right;\n",
              "    }\n",
              "</style>\n",
              "<table border=\"1\" class=\"dataframe\">\n",
              "  <thead>\n",
              "    <tr style=\"text-align: right;\">\n",
              "      <th></th>\n",
              "      <th>count</th>\n",
              "    </tr>\n",
              "  </thead>\n",
              "  <tbody>\n",
              "    <tr>\n",
              "      <th>0</th>\n",
              "      <td>24073</td>\n",
              "    </tr>\n",
              "  </tbody>\n",
              "</table>\n",
              "</div>"
            ],
            "text/plain": [
              "   count\n",
              "0  24073"
            ]
          },
          "execution_count": 167,
          "metadata": {},
          "output_type": "execute_result"
        }
      ],
      "source": [
        "# Используем метод read_sql_query, чтобы получить результаты запроса в виде датафрейма.\n",
        "df = pd.read_sql_query(query_4_2, connection)\n",
        "df"
      ]
    },
    {
      "cell_type": "markdown",
      "id": "635c4d5d-f323-4c66-b428-50a088120aa0",
      "metadata": {
        "id": "635c4d5d-f323-4c66-b428-50a088120aa0"
      },
      "source": [
        "3. Найдите средние значения для нижней и верхней границы зарплатной вилки. Округлите значения до целого."
      ]
    },
    {
      "cell_type": "code",
      "execution_count": 168,
      "id": "603cdbe4-0ec3-4106-8eaf-c73fcdd29165",
      "metadata": {
        "id": "603cdbe4-0ec3-4106-8eaf-c73fcdd29165"
      },
      "outputs": [],
      "source": [
        "# Выводим агрегирующие показатели согласно заданию с помощью оператора avg и функции round.\n",
        "query_4_3 = '''\n",
        "        select \n",
        "            round(avg(salary_from)) \"среднее по нижнее границе\",\n",
        "            round(avg(salary_to)) \"среднее по верхней границе\"\n",
        "        from \n",
        "            vacancies\n",
        "           '''"
      ]
    },
    {
      "cell_type": "code",
      "execution_count": 169,
      "id": "pswpAb66ovZZ",
      "metadata": {
        "id": "pswpAb66ovZZ"
      },
      "outputs": [
        {
          "data": {
            "text/html": [
              "<div>\n",
              "<style scoped>\n",
              "    .dataframe tbody tr th:only-of-type {\n",
              "        vertical-align: middle;\n",
              "    }\n",
              "\n",
              "    .dataframe tbody tr th {\n",
              "        vertical-align: top;\n",
              "    }\n",
              "\n",
              "    .dataframe thead th {\n",
              "        text-align: right;\n",
              "    }\n",
              "</style>\n",
              "<table border=\"1\" class=\"dataframe\">\n",
              "  <thead>\n",
              "    <tr style=\"text-align: right;\">\n",
              "      <th></th>\n",
              "      <th>среднее по нижнее границе</th>\n",
              "      <th>среднее по верхней границе</th>\n",
              "    </tr>\n",
              "  </thead>\n",
              "  <tbody>\n",
              "    <tr>\n",
              "      <th>0</th>\n",
              "      <td>71065.0</td>\n",
              "      <td>110537.0</td>\n",
              "    </tr>\n",
              "  </tbody>\n",
              "</table>\n",
              "</div>"
            ],
            "text/plain": [
              "   среднее по нижнее границе  среднее по верхней границе\n",
              "0                    71065.0                    110537.0"
            ]
          },
          "execution_count": 169,
          "metadata": {},
          "output_type": "execute_result"
        }
      ],
      "source": [
        "# Используем метод read_sql_query, чтобы получить результаты запроса сразу в виде датафрейма.\n",
        "df = pd.read_sql_query(query_4_3, connection)\n",
        "df"
      ]
    },
    {
      "cell_type": "markdown",
      "id": "f3fdaec9-5fd3-4260-9cf5-1d7406b628a5",
      "metadata": {
        "id": "f3fdaec9-5fd3-4260-9cf5-1d7406b628a5"
      },
      "source": [
        "4. Напишите запрос, который выведет количество вакансий для каждого сочетания типа рабочего графика (schedule) и типа трудоустройства (employment), используемого в вакансиях. Результат отсортируйте по убыванию количества.\n"
      ]
    },
    {
      "cell_type": "code",
      "execution_count": 170,
      "id": "1ea710ec-871b-431e-9462-c7d0fd87011b",
      "metadata": {
        "id": "1ea710ec-871b-431e-9462-c7d0fd87011b"
      },
      "outputs": [],
      "source": [
        "# Группируем по двум критериям, чтобы получить все сочетания типа графика и типа трудоустройства, \n",
        "# затем упорядочиваем по убыванию количества вакансий.\n",
        "query_4_4 = '''\n",
        "        select \n",
        "            schedule,\n",
        "            employment,\n",
        "            count(id)\n",
        "        from \n",
        "            vacancies\n",
        "        group by 1,2\n",
        "        order by 3 desc\n",
        "             '''\n"
      ]
    },
    {
      "cell_type": "code",
      "execution_count": 171,
      "id": "lGUVqavdo4JQ",
      "metadata": {
        "id": "lGUVqavdo4JQ"
      },
      "outputs": [
        {
          "data": {
            "text/html": [
              "<div>\n",
              "<style scoped>\n",
              "    .dataframe tbody tr th:only-of-type {\n",
              "        vertical-align: middle;\n",
              "    }\n",
              "\n",
              "    .dataframe tbody tr th {\n",
              "        vertical-align: top;\n",
              "    }\n",
              "\n",
              "    .dataframe thead th {\n",
              "        text-align: right;\n",
              "    }\n",
              "</style>\n",
              "<table border=\"1\" class=\"dataframe\">\n",
              "  <thead>\n",
              "    <tr style=\"text-align: right;\">\n",
              "      <th></th>\n",
              "      <th>schedule</th>\n",
              "      <th>employment</th>\n",
              "      <th>count</th>\n",
              "    </tr>\n",
              "  </thead>\n",
              "  <tbody>\n",
              "    <tr>\n",
              "      <th>0</th>\n",
              "      <td>Полный день</td>\n",
              "      <td>Полная занятость</td>\n",
              "      <td>35367</td>\n",
              "    </tr>\n",
              "    <tr>\n",
              "      <th>1</th>\n",
              "      <td>Удаленная работа</td>\n",
              "      <td>Полная занятость</td>\n",
              "      <td>7802</td>\n",
              "    </tr>\n",
              "    <tr>\n",
              "      <th>2</th>\n",
              "      <td>Гибкий график</td>\n",
              "      <td>Полная занятость</td>\n",
              "      <td>1593</td>\n",
              "    </tr>\n",
              "    <tr>\n",
              "      <th>3</th>\n",
              "      <td>Удаленная работа</td>\n",
              "      <td>Частичная занятость</td>\n",
              "      <td>1312</td>\n",
              "    </tr>\n",
              "    <tr>\n",
              "      <th>4</th>\n",
              "      <td>Сменный график</td>\n",
              "      <td>Полная занятость</td>\n",
              "      <td>940</td>\n",
              "    </tr>\n",
              "    <tr>\n",
              "      <th>5</th>\n",
              "      <td>Полный день</td>\n",
              "      <td>Стажировка</td>\n",
              "      <td>569</td>\n",
              "    </tr>\n",
              "    <tr>\n",
              "      <th>6</th>\n",
              "      <td>Вахтовый метод</td>\n",
              "      <td>Полная занятость</td>\n",
              "      <td>367</td>\n",
              "    </tr>\n",
              "    <tr>\n",
              "      <th>7</th>\n",
              "      <td>Полный день</td>\n",
              "      <td>Частичная занятость</td>\n",
              "      <td>347</td>\n",
              "    </tr>\n",
              "    <tr>\n",
              "      <th>8</th>\n",
              "      <td>Гибкий график</td>\n",
              "      <td>Частичная занятость</td>\n",
              "      <td>312</td>\n",
              "    </tr>\n",
              "    <tr>\n",
              "      <th>9</th>\n",
              "      <td>Полный день</td>\n",
              "      <td>Проектная работа</td>\n",
              "      <td>141</td>\n",
              "    </tr>\n",
              "    <tr>\n",
              "      <th>10</th>\n",
              "      <td>Удаленная работа</td>\n",
              "      <td>Проектная работа</td>\n",
              "      <td>133</td>\n",
              "    </tr>\n",
              "    <tr>\n",
              "      <th>11</th>\n",
              "      <td>Гибкий график</td>\n",
              "      <td>Стажировка</td>\n",
              "      <td>116</td>\n",
              "    </tr>\n",
              "    <tr>\n",
              "      <th>12</th>\n",
              "      <td>Сменный график</td>\n",
              "      <td>Частичная занятость</td>\n",
              "      <td>101</td>\n",
              "    </tr>\n",
              "    <tr>\n",
              "      <th>13</th>\n",
              "      <td>Удаленная работа</td>\n",
              "      <td>Стажировка</td>\n",
              "      <td>64</td>\n",
              "    </tr>\n",
              "    <tr>\n",
              "      <th>14</th>\n",
              "      <td>Гибкий график</td>\n",
              "      <td>Проектная работа</td>\n",
              "      <td>18</td>\n",
              "    </tr>\n",
              "    <tr>\n",
              "      <th>15</th>\n",
              "      <td>Сменный график</td>\n",
              "      <td>Стажировка</td>\n",
              "      <td>12</td>\n",
              "    </tr>\n",
              "    <tr>\n",
              "      <th>16</th>\n",
              "      <td>Вахтовый метод</td>\n",
              "      <td>Проектная работа</td>\n",
              "      <td>2</td>\n",
              "    </tr>\n",
              "    <tr>\n",
              "      <th>17</th>\n",
              "      <td>Сменный график</td>\n",
              "      <td>Проектная работа</td>\n",
              "      <td>1</td>\n",
              "    </tr>\n",
              "  </tbody>\n",
              "</table>\n",
              "</div>"
            ],
            "text/plain": [
              "            schedule           employment  count\n",
              "0        Полный день     Полная занятость  35367\n",
              "1   Удаленная работа     Полная занятость   7802\n",
              "2      Гибкий график     Полная занятость   1593\n",
              "3   Удаленная работа  Частичная занятость   1312\n",
              "4     Сменный график     Полная занятость    940\n",
              "5        Полный день           Стажировка    569\n",
              "6     Вахтовый метод     Полная занятость    367\n",
              "7        Полный день  Частичная занятость    347\n",
              "8      Гибкий график  Частичная занятость    312\n",
              "9        Полный день     Проектная работа    141\n",
              "10  Удаленная работа     Проектная работа    133\n",
              "11     Гибкий график           Стажировка    116\n",
              "12    Сменный график  Частичная занятость    101\n",
              "13  Удаленная работа           Стажировка     64\n",
              "14     Гибкий график     Проектная работа     18\n",
              "15    Сменный график           Стажировка     12\n",
              "16    Вахтовый метод     Проектная работа      2\n",
              "17    Сменный график     Проектная работа      1"
            ]
          },
          "execution_count": 171,
          "metadata": {},
          "output_type": "execute_result"
        }
      ],
      "source": [
        "# Используем метод read_sql_query, чтобы получить результаты запроса в виде датафрейма.\n",
        "df = pd.read_sql_query(query_4_4, connection)\n",
        "df"
      ]
    },
    {
      "cell_type": "markdown",
      "id": "0136ffee-0ead-4a6b-b608-61d1c753a438",
      "metadata": {
        "id": "0136ffee-0ead-4a6b-b608-61d1c753a438"
      },
      "source": [
        "5. Напишите запрос, выводящий значения поля Требуемый опыт работы (experience) в порядке возрастания количества вакансий, в которых указан данный вариант опыта. "
      ]
    },
    {
      "cell_type": "code",
      "execution_count": 172,
      "id": "5b3a8e79-f7ab-4008-b767-12aea3a205ea",
      "metadata": {
        "id": "5b3a8e79-f7ab-4008-b767-12aea3a205ea"
      },
      "outputs": [],
      "source": [
        "# Выводим столбец с опытом, группируя по количеству, чтобы затем отсортировать \n",
        "# в порядке возрастания количества вакансий.\n",
        "query_4_5= '''\n",
        "        select \n",
        "            experience опыт\n",
        "        from \n",
        "            vacancies\n",
        "        group by experience\n",
        "        order by count(experience)\n",
        "           '''\n"
      ]
    },
    {
      "cell_type": "code",
      "execution_count": 173,
      "id": "3Is64Y-hpDpq",
      "metadata": {
        "id": "3Is64Y-hpDpq"
      },
      "outputs": [
        {
          "data": {
            "text/html": [
              "<div>\n",
              "<style scoped>\n",
              "    .dataframe tbody tr th:only-of-type {\n",
              "        vertical-align: middle;\n",
              "    }\n",
              "\n",
              "    .dataframe tbody tr th {\n",
              "        vertical-align: top;\n",
              "    }\n",
              "\n",
              "    .dataframe thead th {\n",
              "        text-align: right;\n",
              "    }\n",
              "</style>\n",
              "<table border=\"1\" class=\"dataframe\">\n",
              "  <thead>\n",
              "    <tr style=\"text-align: right;\">\n",
              "      <th></th>\n",
              "      <th>опыт</th>\n",
              "    </tr>\n",
              "  </thead>\n",
              "  <tbody>\n",
              "    <tr>\n",
              "      <th>0</th>\n",
              "      <td>Более 6 лет</td>\n",
              "    </tr>\n",
              "    <tr>\n",
              "      <th>1</th>\n",
              "      <td>Нет опыта</td>\n",
              "    </tr>\n",
              "    <tr>\n",
              "      <th>2</th>\n",
              "      <td>От 3 до 6 лет</td>\n",
              "    </tr>\n",
              "    <tr>\n",
              "      <th>3</th>\n",
              "      <td>От 1 года до 3 лет</td>\n",
              "    </tr>\n",
              "  </tbody>\n",
              "</table>\n",
              "</div>"
            ],
            "text/plain": [
              "                 опыт\n",
              "0         Более 6 лет\n",
              "1           Нет опыта\n",
              "2       От 3 до 6 лет\n",
              "3  От 1 года до 3 лет"
            ]
          },
          "execution_count": 173,
          "metadata": {},
          "output_type": "execute_result"
        }
      ],
      "source": [
        "# Используем метод read_sql_query, чтобы получить результаты запроса сразу в виде датафрейма\n",
        "df = pd.read_sql_query(query_4_5, connection)\n",
        "df\n"
      ]
    },
    {
      "cell_type": "code",
      "execution_count": null,
      "id": "b94bc304",
      "metadata": {},
      "outputs": [],
      "source": []
    },
    {
      "cell_type": "markdown",
      "id": "oq2b7n1QpIka",
      "metadata": {
        "id": "oq2b7n1QpIka"
      },
      "source": [
        "***"
      ]
    },
    {
      "cell_type": "code",
      "execution_count": 174,
      "id": "97d03f31",
      "metadata": {},
      "outputs": [
        {
          "data": {
            "text/html": [
              "<div>\n",
              "<style scoped>\n",
              "    .dataframe tbody tr th:only-of-type {\n",
              "        vertical-align: middle;\n",
              "    }\n",
              "\n",
              "    .dataframe tbody tr th {\n",
              "        vertical-align: top;\n",
              "    }\n",
              "\n",
              "    .dataframe thead th {\n",
              "        text-align: right;\n",
              "    }\n",
              "</style>\n",
              "<table border=\"1\" class=\"dataframe\">\n",
              "  <thead>\n",
              "    <tr style=\"text-align: right;\">\n",
              "      <th></th>\n",
              "      <th>area</th>\n",
              "      <th>count</th>\n",
              "      <th>population</th>\n",
              "      <th>vac_ratio_%</th>\n",
              "    </tr>\n",
              "  </thead>\n",
              "  <tbody>\n",
              "    <tr>\n",
              "      <th>0</th>\n",
              "      <td>Москва</td>\n",
              "      <td>5333</td>\n",
              "      <td>13010</td>\n",
              "      <td>0.040992</td>\n",
              "    </tr>\n",
              "    <tr>\n",
              "      <th>1</th>\n",
              "      <td>Санкт-Петербург</td>\n",
              "      <td>2851</td>\n",
              "      <td>5602</td>\n",
              "      <td>0.050893</td>\n",
              "    </tr>\n",
              "    <tr>\n",
              "      <th>2</th>\n",
              "      <td>Минск</td>\n",
              "      <td>2112</td>\n",
              "      <td>2018</td>\n",
              "      <td>0.104658</td>\n",
              "    </tr>\n",
              "    <tr>\n",
              "      <th>3</th>\n",
              "      <td>Новосибирск</td>\n",
              "      <td>2006</td>\n",
              "      <td>1634</td>\n",
              "      <td>0.122766</td>\n",
              "    </tr>\n",
              "    <tr>\n",
              "      <th>4</th>\n",
              "      <td>Алматы</td>\n",
              "      <td>1892</td>\n",
              "      <td>2001</td>\n",
              "      <td>0.094553</td>\n",
              "    </tr>\n",
              "  </tbody>\n",
              "</table>\n",
              "</div>"
            ],
            "text/plain": [
              "              area  count  population  vac_ratio_%\n",
              "0           Москва   5333       13010     0.040992\n",
              "1  Санкт-Петербург   2851        5602     0.050893\n",
              "2            Минск   2112        2018     0.104658\n",
              "3      Новосибирск   2006        1634     0.122766\n",
              "4           Алматы   1892        2001     0.094553"
            ]
          },
          "metadata": {},
          "output_type": "display_data"
        }
      ],
      "source": [
        "# Для дополнительного исследования построим новые столбцы к таблице из запроса 4_1, оставив только топ-5 городов и указав \n",
        "# населенность в этих городах (данные Росстата, Белстата и Бюро национальной статистики Казахстана на 2020 год).\n",
        "#  А так же добавим столбец отношения количества вакансий к численности населения рассматриваемых городов. \n",
        "# Предварительно создадим список численности для этих городов:\n",
        "\n",
        "population_list = [13010, 5602, 2018, 1634, 2001]\n",
        "\n",
        "query_4_1 = '''\n",
        "        select \n",
        "            a.name area, \n",
        "            count(v.id) count \n",
        "        from \n",
        "            vacancies v\n",
        "            join areas a on a.id = v.area_id\n",
        "        group by 1\n",
        "        order by 2 desc\n",
        "            ''' \n",
        "# Используем метод read_sql_query, чтобы получить результаты запроса сразу в виде нужного столбца датафрейма.\n",
        "df_4_1 = pd.read_sql_query(query_4_1, connection)\n",
        "# Убираем все строки, кроме топ-5 городов\n",
        "df_4_1_ext = df_4_1.iloc[0:5,:]\n",
        "# Создаем столбец с численностью\n",
        "df_4_1_ext['population'] = population_list\n",
        "# Создаем столбец с процентным соотношением вакансий к численности населения\n",
        "df_4_1_ext['vac_ratio_%'] = (df_4_1_ext['count']/1000)/df_4_1_ext['population']*100\n",
        "\n",
        "display(df_4_1_ext)"
      ]
    },
    {
      "attachments": {},
      "cell_type": "markdown",
      "id": "f0547ba9",
      "metadata": {},
      "source": [
        "Из проведенного анализа можно сделать следующие выводы:\n",
        "   1) Лидером по количеству вакансий является Москва, в ней больше 10% всех анализируемых вакансий. \n",
        "А топ пять городов - это Москва (5333), Санкт-Петербург\t(2851), Минск (2112), Новосибирск (2006), Алматы (1892). \n",
        "    Сами по себе эти цифры немного говорят, так как численность населения данных городов отличается.\n",
        "Лучше смотреть количество вакансий в зависимости от населенности данных городов. Дат вакансий у нас нет, для наглядности проведения такого исследования предположим, это 2020 год.  \n",
        "Из дополнительного датафрейма df_4_1_ext видно, что Москва хоть и является лидером по абсолютному количеству вакансий, в процентном отношении к числу ее жителей это всего 0,04%. А Новосибирск, занимающий в абсолюте 4 место, является действительным лидером по числу it вакансий в отношении к числу жителей. За ним идет Минск.\n",
        "Получается, что на исследуемых данных концентрация поиска айти специалистов выше всего в Новосибирске и Минске. \n",
        "\n",
        "2) У большинства вакансий работодатели просят опыт от 1 года до 3 лет (26152). На втором месте от 3 до 6 лет, их вдвое меньше. Вакансии без опыта занимают третье место (7197 вакансий). А опыт более 6 лет встречается в 1337 вакансиях. \n",
        "При этом Информацию о зарплате (нижней или верхней границе) указывают лишь половина работодателей. Средняя нижняя граница зарплатной вилки  равна 71065 рублей, а средняя верхняя 110537. Разрыв небольшой, как и сами суммы, это, вероятно, объясняется тем, что из общего числа вакансий (49197) больше половины - работа для специалистов с небольшим опытом, либо вообще без него. Это так же может говорить о растущем рынке айтиспециалистов, растущем спросе на них, так как работодатели готовы нанимать начинающих айтишников. \n",
        "\n",
        "3) Абсолютное большинство вакансий (35367)  - это работа с полной занятостью и полным рабочим днем. На втором месте идет полный рабочий день с удаленной занятостью, однако количество таких вакансий уже в пять раз меньше. На третьем месте так же полная занятость при гибком графике, что опять же в несколько раз меньше по количеству в отличие от второго места (1593). Это говорит о том, что большинство работодателей при найме на полный рабочий день не готовы отпускать своих айтиспециалистов на удаленку, большинство хотят видеть их в офисе ежедневно.\n",
        "   "
      ]
    },
    {
      "cell_type": "markdown",
      "id": "7ea20ab6-04a7-40a0-adec-443a0e5a42c3",
      "metadata": {
        "id": "7ea20ab6-04a7-40a0-adec-443a0e5a42c3"
      },
      "source": [
        "# Юнит 5. Анализ работодателей"
      ]
    },
    {
      "cell_type": "markdown",
      "id": "968aed80-74ef-4ffb-b5bf-c65b84e9caea",
      "metadata": {
        "id": "968aed80-74ef-4ffb-b5bf-c65b84e9caea"
      },
      "source": [
        "1. Напишите запрос, который позволит узнать, какие работодатели находятся на первом и пятом месте по количеству вакансий."
      ]
    },
    {
      "cell_type": "code",
      "execution_count": 175,
      "id": "f2d62796-d400-4ec1-a675-88112739a50e",
      "metadata": {
        "id": "f2d62796-d400-4ec1-a675-88112739a50e"
      },
      "outputs": [],
      "source": [
        "# Находим работодателя с наибольшим количеством вакансий: выводим работодателей и через группировку выводим количество их\n",
        "# вакансий из объединной таблицы (вакансии + работодатели по ключу id работодателя), сортируем по убыванию, \n",
        "# оставляем топ-3 для дальнейших выводов.   \n",
        "# Далее, аналогично пишем запрос на вывод работодателя, занимающего 5 место по количеству вакансий, отсекая первые 4 места. \n",
        "# Объединяем эти два запроса в одну таблицу через Union.\n",
        "\n",
        "query_5_1= '''\n",
        "        (select \n",
        "            e.name,\n",
        "            count(v.id)\n",
        "        from \n",
        "            vacancies v\n",
        "            join employers e on e.id = v.employer_id\n",
        "        group by 1\n",
        "        order by 2 desc\n",
        "        limit 3)\n",
        "    union all\n",
        "        (select \n",
        "            e.name,\n",
        "            count(v.id)\n",
        "        from vacancies v\n",
        "            join employers e on e.id = v.employer_id\n",
        "        group by 1\n",
        "        order by 2 desc\n",
        "        offset 4\n",
        "        limit 1)\n",
        "            '''"
      ]
    },
    {
      "cell_type": "code",
      "execution_count": 176,
      "id": "64tOMkAxqkQk",
      "metadata": {
        "id": "64tOMkAxqkQk"
      },
      "outputs": [
        {
          "data": {
            "text/html": [
              "<div>\n",
              "<style scoped>\n",
              "    .dataframe tbody tr th:only-of-type {\n",
              "        vertical-align: middle;\n",
              "    }\n",
              "\n",
              "    .dataframe tbody tr th {\n",
              "        vertical-align: top;\n",
              "    }\n",
              "\n",
              "    .dataframe thead th {\n",
              "        text-align: right;\n",
              "    }\n",
              "</style>\n",
              "<table border=\"1\" class=\"dataframe\">\n",
              "  <thead>\n",
              "    <tr style=\"text-align: right;\">\n",
              "      <th></th>\n",
              "      <th>name</th>\n",
              "      <th>count</th>\n",
              "    </tr>\n",
              "  </thead>\n",
              "  <tbody>\n",
              "    <tr>\n",
              "      <th>0</th>\n",
              "      <td>Яндекс</td>\n",
              "      <td>1933</td>\n",
              "    </tr>\n",
              "    <tr>\n",
              "      <th>1</th>\n",
              "      <td>Ростелеком</td>\n",
              "      <td>491</td>\n",
              "    </tr>\n",
              "    <tr>\n",
              "      <th>2</th>\n",
              "      <td>Тинькофф</td>\n",
              "      <td>444</td>\n",
              "    </tr>\n",
              "    <tr>\n",
              "      <th>3</th>\n",
              "      <td>Газпром нефть</td>\n",
              "      <td>331</td>\n",
              "    </tr>\n",
              "  </tbody>\n",
              "</table>\n",
              "</div>"
            ],
            "text/plain": [
              "            name  count\n",
              "0         Яндекс   1933\n",
              "1     Ростелеком    491\n",
              "2       Тинькофф    444\n",
              "3  Газпром нефть    331"
            ]
          },
          "execution_count": 176,
          "metadata": {},
          "output_type": "execute_result"
        }
      ],
      "source": [
        "# Используем метод read_sql_query, чтобы получить результаты запроса сразу в виде датафрейма\n",
        "df = pd.read_sql_query(query_5_1, connection)\n",
        "df"
      ]
    },
    {
      "cell_type": "markdown",
      "id": "68377cfc-b378-43dc-ab7d-1195abf2c515",
      "metadata": {
        "id": "68377cfc-b378-43dc-ab7d-1195abf2c515"
      },
      "source": [
        "2. Напишите запрос, который для каждого региона выведет количество работодателей и вакансий в нём.\n",
        "Среди регионов, в которых нет вакансий, найдите тот, в котором наибольшее количество работодателей.\n"
      ]
    },
    {
      "cell_type": "code",
      "execution_count": 177,
      "id": "dd7df27a-e3e8-412e-a21a-5d389b71e891",
      "metadata": {
        "id": "dd7df27a-e3e8-412e-a21a-5d389b71e891"
      },
      "outputs": [],
      "source": [
        "# Создаем объединенную таблицу с вакансиями, работодателями и регионами через ключ id региона. Используем left join\n",
        "# так как нам необходимо сохранить все данные таблицы areas (включая регионы, где нет вакансий). Группируем согласно заданию.\n",
        "# Фильтруем запрос, оставляя только те регионы, где нет вакансий (v.id is null). Сортируем по убыванию, оставляем топ-1.\n",
        "\n",
        "query_5_2= '''\n",
        "    select \n",
        "        a.name,\n",
        "        count(e.id) employers_cnt,\n",
        "        count(v.id) vacancies_cnt\n",
        "    from \n",
        "        areas a\n",
        "        left join vacancies v on a.id = v.area_id\n",
        "        left join employers e on a.id = e.area\n",
        "    where v.id is null\n",
        "    group by 1\n",
        "    order by 2 desc\n",
        "    limit 1\n",
        "            '''"
      ]
    },
    {
      "cell_type": "code",
      "execution_count": 178,
      "id": "x1ikWbydrbf6",
      "metadata": {
        "id": "x1ikWbydrbf6"
      },
      "outputs": [
        {
          "data": {
            "text/html": [
              "<div>\n",
              "<style scoped>\n",
              "    .dataframe tbody tr th:only-of-type {\n",
              "        vertical-align: middle;\n",
              "    }\n",
              "\n",
              "    .dataframe tbody tr th {\n",
              "        vertical-align: top;\n",
              "    }\n",
              "\n",
              "    .dataframe thead th {\n",
              "        text-align: right;\n",
              "    }\n",
              "</style>\n",
              "<table border=\"1\" class=\"dataframe\">\n",
              "  <thead>\n",
              "    <tr style=\"text-align: right;\">\n",
              "      <th></th>\n",
              "      <th>name</th>\n",
              "      <th>employers_cnt</th>\n",
              "      <th>vacancies_cnt</th>\n",
              "    </tr>\n",
              "  </thead>\n",
              "  <tbody>\n",
              "    <tr>\n",
              "      <th>0</th>\n",
              "      <td>Россия</td>\n",
              "      <td>410</td>\n",
              "      <td>0</td>\n",
              "    </tr>\n",
              "  </tbody>\n",
              "</table>\n",
              "</div>"
            ],
            "text/plain": [
              "     name  employers_cnt  vacancies_cnt\n",
              "0  Россия            410              0"
            ]
          },
          "execution_count": 178,
          "metadata": {},
          "output_type": "execute_result"
        }
      ],
      "source": [
        "# Используем метод read_sql_query, чтобы получить результаты запроса сразу в виде строки датафрейма\n",
        "df = pd.read_sql_query(query_5_2, connection)\n",
        "df"
      ]
    },
    {
      "cell_type": "markdown",
      "id": "f2fe0acb-ab1a-4e15-9326-2560e22d73c1",
      "metadata": {
        "id": "f2fe0acb-ab1a-4e15-9326-2560e22d73c1"
      },
      "source": [
        "3. Для каждого работодателя посчитайте количество регионов, в которых он публикует свои вакансии. Отсортируйте результат по убыванию количества.\n"
      ]
    },
    {
      "cell_type": "code",
      "execution_count": 179,
      "id": "6271f8ad-bd2e-4196-ae4a-5b39c4c1010e",
      "metadata": {
        "id": "6271f8ad-bd2e-4196-ae4a-5b39c4c1010e"
      },
      "outputs": [],
      "source": [
        "# Cоединяем таблицу работодателей и вакансий через left join, чтобы оставить всех работодателей (включая тех, кто не публикует вакансии).\n",
        "#  Считаем уникальное количество регионов для каждого работодателя, сортируем по убыванию.\n",
        "\n",
        "query_5_3= '''\n",
        "        select \n",
        "            e.name \"работодатель\",\n",
        "            count(distinct v.area_id) region_cnt\n",
        "        from \n",
        "            employers e\n",
        "            left join vacancies v on e.id = v.employer_id\n",
        "        group by 1\n",
        "        order by 2 desc\n",
        "           '''"
      ]
    },
    {
      "cell_type": "code",
      "execution_count": 180,
      "id": "1EIvX3HasH4F",
      "metadata": {
        "id": "1EIvX3HasH4F"
      },
      "outputs": [
        {
          "data": {
            "text/html": [
              "<div>\n",
              "<style scoped>\n",
              "    .dataframe tbody tr th:only-of-type {\n",
              "        vertical-align: middle;\n",
              "    }\n",
              "\n",
              "    .dataframe tbody tr th {\n",
              "        vertical-align: top;\n",
              "    }\n",
              "\n",
              "    .dataframe thead th {\n",
              "        text-align: right;\n",
              "    }\n",
              "</style>\n",
              "<table border=\"1\" class=\"dataframe\">\n",
              "  <thead>\n",
              "    <tr style=\"text-align: right;\">\n",
              "      <th></th>\n",
              "      <th>работодатель</th>\n",
              "      <th>region_cnt</th>\n",
              "    </tr>\n",
              "  </thead>\n",
              "  <tbody>\n",
              "    <tr>\n",
              "      <th>0</th>\n",
              "      <td>Яндекс</td>\n",
              "      <td>181</td>\n",
              "    </tr>\n",
              "    <tr>\n",
              "      <th>1</th>\n",
              "      <td>Ростелеком</td>\n",
              "      <td>152</td>\n",
              "    </tr>\n",
              "    <tr>\n",
              "      <th>2</th>\n",
              "      <td>Спецремонт</td>\n",
              "      <td>116</td>\n",
              "    </tr>\n",
              "    <tr>\n",
              "      <th>3</th>\n",
              "      <td>Поляков Денис Иванович</td>\n",
              "      <td>88</td>\n",
              "    </tr>\n",
              "    <tr>\n",
              "      <th>4</th>\n",
              "      <td>ООО ЕФИН</td>\n",
              "      <td>71</td>\n",
              "    </tr>\n",
              "    <tr>\n",
              "      <th>...</th>\n",
              "      <td>...</td>\n",
              "      <td>...</td>\n",
              "    </tr>\n",
              "    <tr>\n",
              "      <th>23170</th>\n",
              "      <td>СДЕЛКА</td>\n",
              "      <td>0</td>\n",
              "    </tr>\n",
              "    <tr>\n",
              "      <th>23171</th>\n",
              "      <td>Alandr Group</td>\n",
              "      <td>0</td>\n",
              "    </tr>\n",
              "    <tr>\n",
              "      <th>23172</th>\n",
              "      <td>СДК</td>\n",
              "      <td>0</td>\n",
              "    </tr>\n",
              "    <tr>\n",
              "      <th>23173</th>\n",
              "      <td>Lemon Land Lombard</td>\n",
              "      <td>0</td>\n",
              "    </tr>\n",
              "    <tr>\n",
              "      <th>23174</th>\n",
              "      <td>Махина</td>\n",
              "      <td>0</td>\n",
              "    </tr>\n",
              "  </tbody>\n",
              "</table>\n",
              "<p>23175 rows × 2 columns</p>\n",
              "</div>"
            ],
            "text/plain": [
              "                 работодатель  region_cnt\n",
              "0                      Яндекс         181\n",
              "1                  Ростелеком         152\n",
              "2                  Спецремонт         116\n",
              "3      Поляков Денис Иванович          88\n",
              "4                   ООО ЕФИН           71\n",
              "...                       ...         ...\n",
              "23170                  СДЕЛКА           0\n",
              "23171            Alandr Group           0\n",
              "23172                     СДК           0\n",
              "23173      Lemon Land Lombard           0\n",
              "23174                  Махина           0\n",
              "\n",
              "[23175 rows x 2 columns]"
            ]
          },
          "execution_count": 180,
          "metadata": {},
          "output_type": "execute_result"
        }
      ],
      "source": [
        "# Используем метод read_sql_query, чтобы получить результаты запроса сразу в виде датафрейма\n",
        "df = pd.read_sql_query(query_5_3, connection)\n",
        "df"
      ]
    },
    {
      "cell_type": "markdown",
      "id": "eab2206d-d95b-468b-8e5f-34381abf0ce7",
      "metadata": {
        "id": "eab2206d-d95b-468b-8e5f-34381abf0ce7"
      },
      "source": [
        "4. Напишите запрос для подсчёта количества работодателей, у которых не указана сфера деятельности. "
      ]
    },
    {
      "cell_type": "code",
      "execution_count": 181,
      "id": "80defb23-bfb1-4a18-8be6-bf36aa7165d5",
      "metadata": {
        "id": "80defb23-bfb1-4a18-8be6-bf36aa7165d5"
      },
      "outputs": [],
      "source": [
        "# Из объединенной таблицы работодателей и сфер деятельности выводим число работодателей согласно заданию\n",
        "# (используем left join, так нам надо сохранить всех работодателей из первой таблицы), \n",
        "# используем фильтрацию. \n",
        "query_5_4 = '''\n",
        "        select\n",
        "            count(e.name)\n",
        "        from \n",
        "            employers e\n",
        "            left join employers_industries e_i on e.id = e_i.employer_id \n",
        "        where industry_id is null\n",
        "            '''\n",
        "          "
      ]
    },
    {
      "cell_type": "code",
      "execution_count": 182,
      "id": "Dp_yCx6ysQSu",
      "metadata": {
        "id": "Dp_yCx6ysQSu"
      },
      "outputs": [
        {
          "data": {
            "text/html": [
              "<div>\n",
              "<style scoped>\n",
              "    .dataframe tbody tr th:only-of-type {\n",
              "        vertical-align: middle;\n",
              "    }\n",
              "\n",
              "    .dataframe tbody tr th {\n",
              "        vertical-align: top;\n",
              "    }\n",
              "\n",
              "    .dataframe thead th {\n",
              "        text-align: right;\n",
              "    }\n",
              "</style>\n",
              "<table border=\"1\" class=\"dataframe\">\n",
              "  <thead>\n",
              "    <tr style=\"text-align: right;\">\n",
              "      <th></th>\n",
              "      <th>count</th>\n",
              "    </tr>\n",
              "  </thead>\n",
              "  <tbody>\n",
              "    <tr>\n",
              "      <th>0</th>\n",
              "      <td>8419</td>\n",
              "    </tr>\n",
              "  </tbody>\n",
              "</table>\n",
              "</div>"
            ],
            "text/plain": [
              "   count\n",
              "0   8419"
            ]
          },
          "execution_count": 182,
          "metadata": {},
          "output_type": "execute_result"
        }
      ],
      "source": [
        "# Используем метод read_sql_query, чтобы получить результаты запроса сразу в виде строки датафрейма\n",
        "df = pd.read_sql_query(query_5_4, connection)\n",
        "df\n"
      ]
    },
    {
      "cell_type": "markdown",
      "id": "0112af31-f6b0-4e3b-82ab-71296e752e5e",
      "metadata": {
        "id": "0112af31-f6b0-4e3b-82ab-71296e752e5e"
      },
      "source": [
        "5. Напишите запрос, чтобы узнать название компании, находящейся на третьем месте в алфавитном списке (по названию) компаний, у которых указано четыре сферы деятельности. "
      ]
    },
    {
      "cell_type": "code",
      "execution_count": 183,
      "id": "973b0cfc-a972-470a-8b4a-68744ef220c4",
      "metadata": {
        "id": "973b0cfc-a972-470a-8b4a-68744ef220c4"
      },
      "outputs": [],
      "source": [
        "# Группируем компании по количеству сфер деятельности из объединенной таблицы (работодатели + все сферы их деятельности, сохраняя всех работодателей).\n",
        "# Применяем фильтрацию having после группировки, оставляя только компании с 4 сферами деятельности. Сортируем компании по алфавиту, отсекаем\n",
        "# топ 2, выводим только 3 место.\n",
        "\n",
        "query_5_5 = '''\n",
        "        select\n",
        "            e.name,\n",
        "            count(e_i.industry_id)\n",
        "        from\n",
        "            employers e\n",
        "            left join employers_industries e_i on e.id = e_i.employer_id \n",
        "        group by 1\n",
        "        having \n",
        "            count(e_i.industry_id) = 4\n",
        "        order by 1\n",
        "        offset 2\n",
        "        limit 1\n",
        "            '''"
      ]
    },
    {
      "cell_type": "code",
      "execution_count": 184,
      "id": "xsPtpp8EsaED",
      "metadata": {
        "id": "xsPtpp8EsaED"
      },
      "outputs": [
        {
          "data": {
            "text/html": [
              "<div>\n",
              "<style scoped>\n",
              "    .dataframe tbody tr th:only-of-type {\n",
              "        vertical-align: middle;\n",
              "    }\n",
              "\n",
              "    .dataframe tbody tr th {\n",
              "        vertical-align: top;\n",
              "    }\n",
              "\n",
              "    .dataframe thead th {\n",
              "        text-align: right;\n",
              "    }\n",
              "</style>\n",
              "<table border=\"1\" class=\"dataframe\">\n",
              "  <thead>\n",
              "    <tr style=\"text-align: right;\">\n",
              "      <th></th>\n",
              "      <th>name</th>\n",
              "      <th>count</th>\n",
              "    </tr>\n",
              "  </thead>\n",
              "  <tbody>\n",
              "    <tr>\n",
              "      <th>0</th>\n",
              "      <td>2ГИС</td>\n",
              "      <td>4</td>\n",
              "    </tr>\n",
              "  </tbody>\n",
              "</table>\n",
              "</div>"
            ],
            "text/plain": [
              "   name  count\n",
              "0  2ГИС      4"
            ]
          },
          "execution_count": 184,
          "metadata": {},
          "output_type": "execute_result"
        }
      ],
      "source": [
        "# Используем метод read_sql_query, чтобы получить результаты запроса сразу в виде строки датафрейма\n",
        "df = pd.read_sql_query(query_5_5, connection)\n",
        "df"
      ]
    },
    {
      "cell_type": "markdown",
      "id": "3bfcfdaf-755d-4d2b-8ed8-326201dc07ab",
      "metadata": {
        "id": "3bfcfdaf-755d-4d2b-8ed8-326201dc07ab"
      },
      "source": [
        "6. С помощью запроса выясните, у какого количества работодателей в качестве сферы деятельности указана Разработка программного обеспечения.\n"
      ]
    },
    {
      "cell_type": "code",
      "execution_count": 185,
      "id": "ad3f270f-2991-47eb-929b-e8f88a55b0d1",
      "metadata": {
        "id": "ad3f270f-2991-47eb-929b-e8f88a55b0d1"
      },
      "outputs": [],
      "source": [
        "# Соединяем таблицы работодателей и сфер деятельности через таблицу employers_industries, фильтруем\n",
        "#  и считаем согласно заданию.\n",
        "\n",
        "query_5_6 = '''\n",
        "        select \n",
        "            count(e.id)\n",
        "        from \n",
        "            employers_industries e_i\n",
        "            join employers e on e.id = e_i.employer_id \n",
        "            join industries i on i.id = e_i.industry_id \n",
        "        where \n",
        "            i.name = 'Разработка программного обеспечения'\n",
        "            '''"
      ]
    },
    {
      "cell_type": "code",
      "execution_count": 186,
      "id": "H72qxWM0shPR",
      "metadata": {
        "id": "H72qxWM0shPR"
      },
      "outputs": [
        {
          "data": {
            "text/html": [
              "<div>\n",
              "<style scoped>\n",
              "    .dataframe tbody tr th:only-of-type {\n",
              "        vertical-align: middle;\n",
              "    }\n",
              "\n",
              "    .dataframe tbody tr th {\n",
              "        vertical-align: top;\n",
              "    }\n",
              "\n",
              "    .dataframe thead th {\n",
              "        text-align: right;\n",
              "    }\n",
              "</style>\n",
              "<table border=\"1\" class=\"dataframe\">\n",
              "  <thead>\n",
              "    <tr style=\"text-align: right;\">\n",
              "      <th></th>\n",
              "      <th>count</th>\n",
              "    </tr>\n",
              "  </thead>\n",
              "  <tbody>\n",
              "    <tr>\n",
              "      <th>0</th>\n",
              "      <td>3553</td>\n",
              "    </tr>\n",
              "  </tbody>\n",
              "</table>\n",
              "</div>"
            ],
            "text/plain": [
              "   count\n",
              "0   3553"
            ]
          },
          "execution_count": 186,
          "metadata": {},
          "output_type": "execute_result"
        }
      ],
      "source": [
        "# Используем метод read_sql_query, чтобы получить результаты запроса сразу в виде строки датафрейма\n",
        "df = pd.read_sql_query(query_5_6, connection)\n",
        "df"
      ]
    },
    {
      "cell_type": "markdown",
      "id": "7b02bb86-0546-40fb-94a4-242f050a5c57",
      "metadata": {
        "id": "7b02bb86-0546-40fb-94a4-242f050a5c57"
      },
      "source": [
        "7. Для компании «Яндекс» выведите список регионов-миллионников, в которых представлены вакансии компании, вместе с количеством вакансий в этих регионах. Также добавьте строку Total с общим количеством вакансий компании. Результат отсортируйте по возрастанию количества.\n",
        "\n",
        "Список городов-милионников надо взять [отсюда](https://ru.wikipedia.org/wiki/%D0%93%D0%BE%D1%80%D0%BE%D0%B4%D0%B0-%D0%BC%D0%B8%D0%BB%D0%BB%D0%B8%D0%BE%D0%BD%D0%B5%D1%80%D1%8B_%D0%A0%D0%BE%D1%81%D1%81%D0%B8%D0%B8). \n",
        "\n",
        "Если возникнут трудности с этим задание посмотрите материалы модуля  PYTHON-17. Как получать данные из веб-источников и API. "
      ]
    },
    {
      "cell_type": "code",
      "execution_count": 187,
      "id": "ZdfrL6gIs1Pn",
      "metadata": {
        "id": "ZdfrL6gIs1Pn"
      },
      "outputs": [],
      "source": [
        "# Создаем кортеж из городов-миллионников\n",
        "cities = ('Москва', 'Санкт-Петербург', 'Новосибирск', 'Екатеринбург', 'Казань',\n",
        "'Нижний Новгород', 'Челябинск', 'Красноярск','Самара', 'Уфа', 'Ростов-на-Дону', 'Омск', 'Краснодар',\n",
        "'Воронеж',  'Пермь', 'Волгоград')"
      ]
    },
    {
      "cell_type": "code",
      "execution_count": 188,
      "id": "5a0e32a4-e68a-4365-8a39-2fe24c542c36",
      "metadata": {
        "id": "5a0e32a4-e68a-4365-8a39-2fe24c542c36"
      },
      "outputs": [],
      "source": [
        "# Выводим список городов-миллионников и количество вакансий в них от компании \"Яндекс\", применяя группировку \n",
        "# по городам, а так же фильтрацию по названию компании и принадлежности города к кортежу cities через f-строку.\n",
        "# Упорядочиваем по числу вакансий по возрастанию. \n",
        "# Присоединяем снизу снизу строку total с общим числом вакансий, фильтруя по тем же критериям.\n",
        "query_5_7 = f'''\n",
        "        select\n",
        "            a.name города_миллионники,\n",
        "        \tcount(*) количество_вакансий\n",
        "\t    from \n",
        "\t\t    employers e\n",
        "     \t    join vacancies v on e.id = v.employer_id\n",
        "     \t    join areas a on a.id = v.area_id\n",
        "        where \n",
        "\t\t    e.name = 'Яндекс'\n",
        "        \tand a.name in {cities}\n",
        "        group by a.id\n",
        "\n",
        "\tunion all\n",
        "\n",
        "        select \n",
        "\t\t\t'Total',\n",
        "\t\t\tcount(*)\n",
        "        from \n",
        "\t\t    vacancies v\n",
        " \t        join employers e on e.id = v.employer_id\n",
        " \t        join areas a on a.id = v.area_id\n",
        "        where\n",
        "\t\t    e.name = 'Яндекс'\n",
        "  \t        and a.name in {cities}\n",
        "        order by 2\n",
        "\t\t\t'''"
      ]
    },
    {
      "cell_type": "code",
      "execution_count": 189,
      "id": "ttPhiO1rsvPq",
      "metadata": {
        "id": "ttPhiO1rsvPq"
      },
      "outputs": [
        {
          "data": {
            "text/html": [
              "<div>\n",
              "<style scoped>\n",
              "    .dataframe tbody tr th:only-of-type {\n",
              "        vertical-align: middle;\n",
              "    }\n",
              "\n",
              "    .dataframe tbody tr th {\n",
              "        vertical-align: top;\n",
              "    }\n",
              "\n",
              "    .dataframe thead th {\n",
              "        text-align: right;\n",
              "    }\n",
              "</style>\n",
              "<table border=\"1\" class=\"dataframe\">\n",
              "  <thead>\n",
              "    <tr style=\"text-align: right;\">\n",
              "      <th></th>\n",
              "      <th>города_миллионники</th>\n",
              "      <th>количество_вакансий</th>\n",
              "    </tr>\n",
              "  </thead>\n",
              "  <tbody>\n",
              "    <tr>\n",
              "      <th>0</th>\n",
              "      <td>Омск</td>\n",
              "      <td>21</td>\n",
              "    </tr>\n",
              "    <tr>\n",
              "      <th>1</th>\n",
              "      <td>Челябинск</td>\n",
              "      <td>22</td>\n",
              "    </tr>\n",
              "    <tr>\n",
              "      <th>2</th>\n",
              "      <td>Красноярск</td>\n",
              "      <td>23</td>\n",
              "    </tr>\n",
              "    <tr>\n",
              "      <th>3</th>\n",
              "      <td>Волгоград</td>\n",
              "      <td>24</td>\n",
              "    </tr>\n",
              "    <tr>\n",
              "      <th>4</th>\n",
              "      <td>Пермь</td>\n",
              "      <td>25</td>\n",
              "    </tr>\n",
              "    <tr>\n",
              "      <th>5</th>\n",
              "      <td>Казань</td>\n",
              "      <td>25</td>\n",
              "    </tr>\n",
              "    <tr>\n",
              "      <th>6</th>\n",
              "      <td>Ростов-на-Дону</td>\n",
              "      <td>25</td>\n",
              "    </tr>\n",
              "    <tr>\n",
              "      <th>7</th>\n",
              "      <td>Самара</td>\n",
              "      <td>26</td>\n",
              "    </tr>\n",
              "    <tr>\n",
              "      <th>8</th>\n",
              "      <td>Уфа</td>\n",
              "      <td>26</td>\n",
              "    </tr>\n",
              "    <tr>\n",
              "      <th>9</th>\n",
              "      <td>Краснодар</td>\n",
              "      <td>30</td>\n",
              "    </tr>\n",
              "    <tr>\n",
              "      <th>10</th>\n",
              "      <td>Воронеж</td>\n",
              "      <td>32</td>\n",
              "    </tr>\n",
              "    <tr>\n",
              "      <th>11</th>\n",
              "      <td>Новосибирск</td>\n",
              "      <td>35</td>\n",
              "    </tr>\n",
              "    <tr>\n",
              "      <th>12</th>\n",
              "      <td>Нижний Новгород</td>\n",
              "      <td>36</td>\n",
              "    </tr>\n",
              "    <tr>\n",
              "      <th>13</th>\n",
              "      <td>Екатеринбург</td>\n",
              "      <td>39</td>\n",
              "    </tr>\n",
              "    <tr>\n",
              "      <th>14</th>\n",
              "      <td>Санкт-Петербург</td>\n",
              "      <td>42</td>\n",
              "    </tr>\n",
              "    <tr>\n",
              "      <th>15</th>\n",
              "      <td>Москва</td>\n",
              "      <td>54</td>\n",
              "    </tr>\n",
              "    <tr>\n",
              "      <th>16</th>\n",
              "      <td>Total</td>\n",
              "      <td>485</td>\n",
              "    </tr>\n",
              "  </tbody>\n",
              "</table>\n",
              "</div>"
            ],
            "text/plain": [
              "   города_миллионники  количество_вакансий\n",
              "0                Омск                   21\n",
              "1           Челябинск                   22\n",
              "2          Красноярск                   23\n",
              "3           Волгоград                   24\n",
              "4               Пермь                   25\n",
              "5              Казань                   25\n",
              "6      Ростов-на-Дону                   25\n",
              "7              Самара                   26\n",
              "8                 Уфа                   26\n",
              "9           Краснодар                   30\n",
              "10            Воронеж                   32\n",
              "11        Новосибирск                   35\n",
              "12    Нижний Новгород                   36\n",
              "13       Екатеринбург                   39\n",
              "14    Санкт-Петербург                   42\n",
              "15             Москва                   54\n",
              "16              Total                  485"
            ]
          },
          "execution_count": 189,
          "metadata": {},
          "output_type": "execute_result"
        }
      ],
      "source": [
        "# Используем метод read_sql_query, чтобы получить результаты запроса в виде датафрейма.\n",
        "df = pd.read_sql_query(query_5_7, connection)\n",
        "df"
      ]
    },
    {
      "cell_type": "markdown",
      "id": "04966e40-3bc3-4dc8-9ba2-e80580ce3abc",
      "metadata": {
        "id": "04966e40-3bc3-4dc8-9ba2-e80580ce3abc"
      },
      "source": [
        "***"
      ]
    },
    {
      "cell_type": "code",
      "execution_count": 190,
      "id": "7f16027d",
      "metadata": {},
      "outputs": [
        {
          "data": {
            "text/html": [
              "<div>\n",
              "<style scoped>\n",
              "    .dataframe tbody tr th:only-of-type {\n",
              "        vertical-align: middle;\n",
              "    }\n",
              "\n",
              "    .dataframe tbody tr th {\n",
              "        vertical-align: top;\n",
              "    }\n",
              "\n",
              "    .dataframe thead th {\n",
              "        text-align: right;\n",
              "    }\n",
              "</style>\n",
              "<table border=\"1\" class=\"dataframe\">\n",
              "  <thead>\n",
              "    <tr style=\"text-align: right;\">\n",
              "      <th></th>\n",
              "      <th>name</th>\n",
              "      <th>count</th>\n",
              "    </tr>\n",
              "  </thead>\n",
              "  <tbody>\n",
              "    <tr>\n",
              "      <th>0</th>\n",
              "      <td>Разработка программного обеспечения</td>\n",
              "      <td>3553</td>\n",
              "    </tr>\n",
              "    <tr>\n",
              "      <th>1</th>\n",
              "      <td>Системная интеграция,  автоматизации технологи...</td>\n",
              "      <td>2993</td>\n",
              "    </tr>\n",
              "    <tr>\n",
              "      <th>2</th>\n",
              "      <td>Интернет-компания (поисковики, платежные систе...</td>\n",
              "      <td>1675</td>\n",
              "    </tr>\n",
              "    <tr>\n",
              "      <th>3</th>\n",
              "      <td>Маркетинговые, рекламные, BTL, дизайнерские, E...</td>\n",
              "      <td>798</td>\n",
              "    </tr>\n",
              "    <tr>\n",
              "      <th>4</th>\n",
              "      <td>Консалтинговые услуги</td>\n",
              "      <td>662</td>\n",
              "    </tr>\n",
              "    <tr>\n",
              "      <th>...</th>\n",
              "      <td>...</td>\n",
              "      <td>...</td>\n",
              "    </tr>\n",
              "    <tr>\n",
              "      <th>289</th>\n",
              "      <td>Лифтовое хозяйство (монтаж, сервис, ремонт)</td>\n",
              "      <td>4</td>\n",
              "    </tr>\n",
              "    <tr>\n",
              "      <th>290</th>\n",
              "      <td>Ритуальные услуги</td>\n",
              "      <td>4</td>\n",
              "    </tr>\n",
              "    <tr>\n",
              "      <th>291</th>\n",
              "      <td>Ботанический сад, зоопарк, заповедник</td>\n",
              "      <td>3</td>\n",
              "    </tr>\n",
              "    <tr>\n",
              "      <th>292</th>\n",
              "      <td>Автошкола</td>\n",
              "      <td>3</td>\n",
              "    </tr>\n",
              "    <tr>\n",
              "      <th>293</th>\n",
              "      <td>Ассоциация в сфере культуры, искусства</td>\n",
              "      <td>1</td>\n",
              "    </tr>\n",
              "  </tbody>\n",
              "</table>\n",
              "<p>294 rows × 2 columns</p>\n",
              "</div>"
            ],
            "text/plain": [
              "                                                  name  count\n",
              "0                  Разработка программного обеспечения   3553\n",
              "1    Системная интеграция,  автоматизации технологи...   2993\n",
              "2    Интернет-компания (поисковики, платежные систе...   1675\n",
              "3    Маркетинговые, рекламные, BTL, дизайнерские, E...    798\n",
              "4                                Консалтинговые услуги    662\n",
              "..                                                 ...    ...\n",
              "289        Лифтовое хозяйство (монтаж, сервис, ремонт)      4\n",
              "290                                  Ритуальные услуги      4\n",
              "291              Ботанический сад, зоопарк, заповедник      3\n",
              "292                                          Автошкола      3\n",
              "293             Ассоциация в сфере культуры, искусства      1\n",
              "\n",
              "[294 rows x 2 columns]"
            ]
          },
          "execution_count": 190,
          "metadata": {},
          "output_type": "execute_result"
        }
      ],
      "source": [
        "#Дополнительно создадим запрос, где выведем все сферы деятельности представленных в таблице employers компаний\n",
        "#  и количество компаний для каждой сферы в порядке убывания. \n",
        "query_5_6_6 = '''\n",
        "        select \n",
        "            i.name,\n",
        "            count(e.id)\n",
        "        from \n",
        "            employers_industries e_i\n",
        "            join employers e on e.id = e_i.employer_id \n",
        "            join industries i on i.id = e_i.industry_id \n",
        "        group by 1\n",
        "        order by 2 desc\n",
        "            '''\n",
        "# Используем метод read_sql_query, чтобы получить результаты запроса в виде датафрейма.          \n",
        "df_5_6_6 = pd.read_sql_query(query_5_6_6, connection)\n",
        "df_5_6_6"
      ]
    },
    {
      "attachments": {},
      "cell_type": "markdown",
      "id": "18dd2ec2",
      "metadata": {},
      "source": [
        "1) Топ-3 по представленности компаний в регионах являются: \"Яндекс\" (181 регион), \"Ростелеком\" (152 региона), \"Спецремонт\" (116 регионов).  При этом \"Яндекс\" является абсолютным лидером по количеству вакансий, компания ищет 1933 специалиста в области айти, четверть из которых приходится на города миллионники. На втором месте \"Ростелеком\" (491 вакансия), третье место \"Тинькофф\" (444 вакансии). Можно сделать вывод, что работа в айти сфере есть далеко не только в столице или городах миллионниках, в регионах тоже широкая представленность. \n",
        "\n",
        "2) Из общего количества работодателей (23501) 3553 ищут специалистов в сферу разработки ПО, или 15%. Из дополнительного запроса, выведенного в датафрейм df_5_6_6 так же видно, что это сфера самая многочисленная.\n"
      ]
    },
    {
      "cell_type": "markdown",
      "id": "b1ef156a-efcb-49ce-bb23-90763e7f35b2",
      "metadata": {
        "id": "b1ef156a-efcb-49ce-bb23-90763e7f35b2",
        "tags": []
      },
      "source": [
        "# Юнит 6. Предметный анализ"
      ]
    },
    {
      "cell_type": "markdown",
      "id": "b9cd50a0-992d-4988-8463-2b2b1c4629b4",
      "metadata": {
        "id": "b9cd50a0-992d-4988-8463-2b2b1c4629b4"
      },
      "source": [
        "1. Сколько вакансий имеет отношение к данным?\n",
        "\n",
        "Считаем, что вакансия имеет отношение к данным, если в её названии содержатся слова 'data' или 'данн'.\n",
        "\n",
        "*Подсказка: Обратите внимание, что названия вакансий могут быть написаны в любом регистре.* \n"
      ]
    },
    {
      "cell_type": "code",
      "execution_count": 191,
      "id": "54ab0e50-c0f1-47cc-a54b-bc5c8bc363f9",
      "metadata": {
        "id": "54ab0e50-c0f1-47cc-a54b-bc5c8bc363f9"
      },
      "outputs": [],
      "source": [
        "# Считаем число вакансий, применяя фильтрацию согласно заданию.\n",
        "query_6_1 = '''\n",
        "    select \n",
        "        count(id) \n",
        "    from \n",
        "        vacancies \n",
        "    where \n",
        "        name ilike '%data%'\n",
        "   \t    or name ilike '%данн%'\n",
        "            '''"
      ]
    },
    {
      "cell_type": "code",
      "execution_count": 192,
      "id": "9F1meAqsuUjd",
      "metadata": {
        "id": "9F1meAqsuUjd"
      },
      "outputs": [
        {
          "data": {
            "text/html": [
              "<div>\n",
              "<style scoped>\n",
              "    .dataframe tbody tr th:only-of-type {\n",
              "        vertical-align: middle;\n",
              "    }\n",
              "\n",
              "    .dataframe tbody tr th {\n",
              "        vertical-align: top;\n",
              "    }\n",
              "\n",
              "    .dataframe thead th {\n",
              "        text-align: right;\n",
              "    }\n",
              "</style>\n",
              "<table border=\"1\" class=\"dataframe\">\n",
              "  <thead>\n",
              "    <tr style=\"text-align: right;\">\n",
              "      <th></th>\n",
              "      <th>count</th>\n",
              "    </tr>\n",
              "  </thead>\n",
              "  <tbody>\n",
              "    <tr>\n",
              "      <th>0</th>\n",
              "      <td>1771</td>\n",
              "    </tr>\n",
              "  </tbody>\n",
              "</table>\n",
              "</div>"
            ],
            "text/plain": [
              "   count\n",
              "0   1771"
            ]
          },
          "execution_count": 192,
          "metadata": {},
          "output_type": "execute_result"
        }
      ],
      "source": [
        "# Используем метод read_sql_query, чтобы получить результаты запроса в виде строки датафрейма.\n",
        "df = pd.read_sql_query(query_6_1, connection)\n",
        "df"
      ]
    },
    {
      "cell_type": "markdown",
      "id": "4dea20cb-a36b-474a-a0b9-e08e8e3857a5",
      "metadata": {
        "id": "4dea20cb-a36b-474a-a0b9-e08e8e3857a5"
      },
      "source": [
        "2. Сколько есть подходящих вакансий для начинающего дата-сайентиста? \n",
        "Будем считать вакансиями для дата-сайентистов такие, в названии которых есть хотя бы одно из следующих сочетаний:\n",
        "* 'data scientist'\n",
        "* 'data science'\n",
        "* 'исследователь данных'\n",
        "* 'ML' (здесь не нужно брать вакансии по HTML)\n",
        "* 'machine learning'\n",
        "* 'машинн%обучен%'\n",
        "\n",
        "** В следующих заданиях мы продолжим работать с вакансиями по этому условию.*\n",
        "\n",
        "Считаем вакансиями для специалистов уровня Junior следующие:\n",
        "* в названии есть слово 'junior' *или*\n",
        "* требуемый опыт — Нет опыта *или*\n",
        "* тип трудоустройства — Стажировка.\n",
        " "
      ]
    },
    {
      "cell_type": "code",
      "execution_count": 193,
      "id": "9c61b3c0-bb66-46c9-ae1e-81d3f5752b4a",
      "metadata": {
        "id": "9c61b3c0-bb66-46c9-ae1e-81d3f5752b4a"
      },
      "outputs": [],
      "source": [
        "# Считаем число вакансий, удовлетворяющих заданию через фильтрацию where, перечисляя все заданные условия. \n",
        "# Чтобы учитывать слова в любом регистре, пользуемся оператором ilike.\n",
        "\n",
        "query_6_2 = '''\n",
        "    select \n",
        "            count(id) \n",
        "    from \n",
        "            vacancies \n",
        "    where\n",
        "            (name ilike '%data scientist%' \n",
        "            or name ilike '%data science%'\n",
        "            or name ilike '%исследователь данных%' \n",
        "            or (name like '%ML%' and name not ilike '%HTML%')\n",
        "   \t    or name ilike '%machine learning%' or name ilike '%машинн%обучен%')\n",
        " \tand\n",
        " \t    (name ilike '%junior%'\n",
        "  \t    or experience = 'Нет опыта'\n",
        "  \t    or employment='Стажировка')\n",
        "            '''"
      ]
    },
    {
      "cell_type": "code",
      "execution_count": 194,
      "id": "ZNM-LLYuu1dj",
      "metadata": {
        "id": "ZNM-LLYuu1dj"
      },
      "outputs": [
        {
          "data": {
            "text/html": [
              "<div>\n",
              "<style scoped>\n",
              "    .dataframe tbody tr th:only-of-type {\n",
              "        vertical-align: middle;\n",
              "    }\n",
              "\n",
              "    .dataframe tbody tr th {\n",
              "        vertical-align: top;\n",
              "    }\n",
              "\n",
              "    .dataframe thead th {\n",
              "        text-align: right;\n",
              "    }\n",
              "</style>\n",
              "<table border=\"1\" class=\"dataframe\">\n",
              "  <thead>\n",
              "    <tr style=\"text-align: right;\">\n",
              "      <th></th>\n",
              "      <th>count</th>\n",
              "    </tr>\n",
              "  </thead>\n",
              "  <tbody>\n",
              "    <tr>\n",
              "      <th>0</th>\n",
              "      <td>51</td>\n",
              "    </tr>\n",
              "  </tbody>\n",
              "</table>\n",
              "</div>"
            ],
            "text/plain": [
              "   count\n",
              "0     51"
            ]
          },
          "execution_count": 194,
          "metadata": {},
          "output_type": "execute_result"
        }
      ],
      "source": [
        "# Используем метод read_sql_query, чтобы получить результаты запроса в виде строки датафрейма.\n",
        "df = pd.read_sql_query(query_6_2, connection)\n",
        "df"
      ]
    },
    {
      "cell_type": "markdown",
      "id": "eedceb80-c5ca-480e-b27a-278dfb8b4438",
      "metadata": {
        "id": "eedceb80-c5ca-480e-b27a-278dfb8b4438"
      },
      "source": [
        "3. Сколько есть вакансий для DS, в которых в качестве ключевого навыка указан SQL или postgres?\n",
        "\n",
        "** Критерии для отнесения вакансии к DS указаны в предыдущем задании.*"
      ]
    },
    {
      "cell_type": "code",
      "execution_count": 195,
      "id": "69621713-0cc5-4f1b-a1d7-bb144fa6148c",
      "metadata": {
        "id": "69621713-0cc5-4f1b-a1d7-bb144fa6148c"
      },
      "outputs": [],
      "source": [
        "# Считаем число вакансий, удовлетворяющих заданию через фильтрацию where, перечисляя все заданные условия. \n",
        "# Чтобы учитывать слова в любом регистре, пользуемся оператором ilike.\n",
        "\n",
        "query_6_3 = '''\n",
        "    select \n",
        "            count(id) \n",
        "    from\n",
        "            vacancies \n",
        "    where\n",
        "            (name ilike '%data scientist%' \n",
        "            or name ilike '%data science%'\n",
        "            or name ilike '%исследователь данных%' \n",
        "            or (name like '%ML%' and name not ilike '%HTML%')\n",
        "   \t    or name ilike '%machine learning%' or name ilike '%машинн%обучен%')\n",
        "   \tand \n",
        "\t    (key_skills ilike '%postgres%'\n",
        "            or key_skills ilike '%SQL%')\n",
        "\t'''"
      ]
    },
    {
      "cell_type": "code",
      "execution_count": 196,
      "id": "alA8WEAAvGdf",
      "metadata": {
        "id": "alA8WEAAvGdf"
      },
      "outputs": [
        {
          "data": {
            "text/html": [
              "<div>\n",
              "<style scoped>\n",
              "    .dataframe tbody tr th:only-of-type {\n",
              "        vertical-align: middle;\n",
              "    }\n",
              "\n",
              "    .dataframe tbody tr th {\n",
              "        vertical-align: top;\n",
              "    }\n",
              "\n",
              "    .dataframe thead th {\n",
              "        text-align: right;\n",
              "    }\n",
              "</style>\n",
              "<table border=\"1\" class=\"dataframe\">\n",
              "  <thead>\n",
              "    <tr style=\"text-align: right;\">\n",
              "      <th></th>\n",
              "      <th>count</th>\n",
              "    </tr>\n",
              "  </thead>\n",
              "  <tbody>\n",
              "    <tr>\n",
              "      <th>0</th>\n",
              "      <td>201</td>\n",
              "    </tr>\n",
              "  </tbody>\n",
              "</table>\n",
              "</div>"
            ],
            "text/plain": [
              "   count\n",
              "0    201"
            ]
          },
          "execution_count": 196,
          "metadata": {},
          "output_type": "execute_result"
        }
      ],
      "source": [
        "# Используем метод read_sql_query, чтобы получить результаты запроса в виде строки датафрейма.\n",
        "df = pd.read_sql_query(query_6_3, connection)\n",
        "df"
      ]
    },
    {
      "cell_type": "markdown",
      "id": "1be1e9c6-37cf-4a5f-bfeb-04cab799dc80",
      "metadata": {
        "id": "1be1e9c6-37cf-4a5f-bfeb-04cab799dc80"
      },
      "source": [
        "4. Проверьте, насколько популярен Python в требованиях работодателей к DS.Для этого вычислите количество вакансий, в которых в качестве ключевого навыка указан Python.\n",
        "\n",
        "** Это можно сделать помощью запроса, аналогичного предыдущему.*"
      ]
    },
    {
      "cell_type": "code",
      "execution_count": 197,
      "id": "0036a355-9ccf-4564-8b01-73d8194297e7",
      "metadata": {
        "id": "0036a355-9ccf-4564-8b01-73d8194297e7"
      },
      "outputs": [],
      "source": [
        "# Считаем число вакансий, удовлетворяющих заданию через фильтрацию where, перечисляя все заданные условия. \n",
        "# Чтобы учитывать слова в любом регистре, пользуемся оператором ilike.\n",
        "\n",
        "query_6_4 = '''\n",
        "    select \n",
        "            count(id) \n",
        "    from\n",
        "            vacancies \n",
        "    where\n",
        "            (name ilike '%data scientist%' \n",
        "            or name ilike '%data science%'\n",
        "            or name ilike '%исследователь данных%' \n",
        "            or (name like '%ML%' and name not ilike '%HTML%')\n",
        "   \t    or name ilike '%machine learning%' or name ilike '%машинн%обучен%')\n",
        "   \tand \n",
        "\t    (key_skills ilike '%Python%')\n",
        "\t'''"
      ]
    },
    {
      "cell_type": "code",
      "execution_count": 198,
      "id": "1i-5WyucvQ6v",
      "metadata": {
        "id": "1i-5WyucvQ6v"
      },
      "outputs": [
        {
          "data": {
            "text/html": [
              "<div>\n",
              "<style scoped>\n",
              "    .dataframe tbody tr th:only-of-type {\n",
              "        vertical-align: middle;\n",
              "    }\n",
              "\n",
              "    .dataframe tbody tr th {\n",
              "        vertical-align: top;\n",
              "    }\n",
              "\n",
              "    .dataframe thead th {\n",
              "        text-align: right;\n",
              "    }\n",
              "</style>\n",
              "<table border=\"1\" class=\"dataframe\">\n",
              "  <thead>\n",
              "    <tr style=\"text-align: right;\">\n",
              "      <th></th>\n",
              "      <th>count</th>\n",
              "    </tr>\n",
              "  </thead>\n",
              "  <tbody>\n",
              "    <tr>\n",
              "      <th>0</th>\n",
              "      <td>351</td>\n",
              "    </tr>\n",
              "  </tbody>\n",
              "</table>\n",
              "</div>"
            ],
            "text/plain": [
              "   count\n",
              "0    351"
            ]
          },
          "execution_count": 198,
          "metadata": {},
          "output_type": "execute_result"
        }
      ],
      "source": [
        "# Используем метод read_sql_query, чтобы получить результаты запроса в виде строки датафрейма.\n",
        "df = pd.read_sql_query(query_6_4, connection)\n",
        "df"
      ]
    },
    {
      "cell_type": "markdown",
      "id": "ec3c8db7-fa21-4a41-a994-1af63742a642",
      "metadata": {
        "id": "ec3c8db7-fa21-4a41-a994-1af63742a642"
      },
      "source": [
        "5. Сколько ключевых навыков в среднем указывают в вакансиях для DS?\n",
        "Ответ округлите до двух знаков после точки-разделителя."
      ]
    },
    {
      "cell_type": "code",
      "execution_count": 199,
      "id": "949132bc-d5b6-4611-8218-0b9a504d74f4",
      "metadata": {
        "id": "949132bc-d5b6-4611-8218-0b9a504d74f4"
      },
      "outputs": [],
      "source": [
        "# Из таблицы вакансий считаем округленное до двух знков среднее число ключевых навыков.\n",
        "# Считаем через число символов табуляции: длина строки с ключевыми навыками минус длина \n",
        "# этой же строки за вычетом символов табуляции (заменяем их на пустую строку), а тк число навыков\n",
        "#  больше числа разделяющих их табуляций на 1, прибавялем 1. \n",
        "#  Далее фильтруем, перечисляя все заданные условия. \n",
        "\n",
        "query_6_5 = '''\n",
        "select\n",
        "       round(avg(length(key_skills)-length(replace(key_skills, CHR(9), ''))+1), 2)\n",
        "from\n",
        "       vacancies\n",
        "where \n",
        "       name ilike '%data scientist%'\n",
        "       or name ilike '%data science%'\n",
        "       or name ilike '%исследователь данных%'\n",
        "       or (name like '%ML%' and name not ilike '%HTML%')\n",
        "       or name ilike '%machine learning%'\n",
        "       or name ilike '%машинн%обучен%'\n",
        "    '''   "
      ]
    },
    {
      "cell_type": "code",
      "execution_count": 200,
      "id": "a3V24Tvmviqk",
      "metadata": {
        "id": "a3V24Tvmviqk"
      },
      "outputs": [
        {
          "data": {
            "text/html": [
              "<div>\n",
              "<style scoped>\n",
              "    .dataframe tbody tr th:only-of-type {\n",
              "        vertical-align: middle;\n",
              "    }\n",
              "\n",
              "    .dataframe tbody tr th {\n",
              "        vertical-align: top;\n",
              "    }\n",
              "\n",
              "    .dataframe thead th {\n",
              "        text-align: right;\n",
              "    }\n",
              "</style>\n",
              "<table border=\"1\" class=\"dataframe\">\n",
              "  <thead>\n",
              "    <tr style=\"text-align: right;\">\n",
              "      <th></th>\n",
              "      <th>round</th>\n",
              "    </tr>\n",
              "  </thead>\n",
              "  <tbody>\n",
              "    <tr>\n",
              "      <th>0</th>\n",
              "      <td>6.41</td>\n",
              "    </tr>\n",
              "  </tbody>\n",
              "</table>\n",
              "</div>"
            ],
            "text/plain": [
              "   round\n",
              "0   6.41"
            ]
          },
          "execution_count": 200,
          "metadata": {},
          "output_type": "execute_result"
        }
      ],
      "source": [
        "# Используем метод read_sql_query, чтобы получить результаты запроса в виде строки датафрейма.\n",
        "df = pd.read_sql_query(query_6_5, connection)\n",
        "df"
      ]
    },
    {
      "cell_type": "markdown",
      "id": "1041c17a-ca8f-4543-a0ca-32778914fb00",
      "metadata": {
        "id": "1041c17a-ca8f-4543-a0ca-32778914fb00"
      },
      "source": [
        "6. Напишите запрос, позволяющий вычислить, какую зарплату для DS в **среднем** указывают для каждого типа требуемого опыта (уникальное значение из поля *experience*). \n",
        "\n",
        "При решении задачи примите во внимание следующее:\n",
        "1. Рассматриваем только вакансии, у которых заполнено хотя бы одно из двух полей с зарплатой.\n",
        "2. Если заполнены оба поля с зарплатой, то считаем зарплату по каждой вакансии как сумму двух полей, делённую на 2. Если заполнено только одно из полей, то его и считаем зарплатой по вакансии.\n",
        "3. Если в расчётах участвует null, в результате он тоже даст null (посмотрите, что возвращает запрос select 1 + null). Чтобы избежать этой ситуацию, мы воспользуемся функцией [coalesce](https://postgrespro.ru/docs/postgresql/9.5/functions-conditional#functions-coalesce-nvl-ifnull), которая заменит null на значение, которое мы передадим. Например, посмотрите, что возвращает запрос `select 1 + coalesce(null, 0)`\n",
        "\n",
        "Выясните, на какую зарплату в среднем может рассчитывать дата-сайентист с опытом работы от 3 до 6 лет. Результат округлите до целого числа. "
      ]
    },
    {
      "cell_type": "code",
      "execution_count": 201,
      "id": "6a743d39-5204-48d3-8271-b9f88e68d40e",
      "metadata": {
        "id": "6a743d39-5204-48d3-8271-b9f88e68d40e"
      },
      "outputs": [],
      "source": [
        "# Выводим столбец с опытом и группируем по нему, считая среднюю указанную зарплату для DS по размеру опыта.\n",
        "# Считаем среднюю зарплату для DS, используя функцию coalesce, которой заменяем null на 0, чтобы \n",
        "# в ситуации, когда одно из двух полей с зарплатой не заполнено (стоит null) иметь возможность посчитать их сумму,\n",
        "# деленную на 2 ((заполненное поле + 0)/2), а не получить null.\n",
        "\n",
        "query_6_6 = '''\n",
        "    select\n",
        "        distinct experience \"опыт\",\n",
        "        round(avg(coalesce((salary_from+salary_to)/2, salary_from, salary_to)), 0) \"средняя_ зарплата\"\n",
        "    from\n",
        "        vacancies \n",
        "    where \n",
        "        name ilike '%data scientist%'\n",
        "        or name ilike '%data science%'\n",
        "        or name ilike '%исследователь данных%'\n",
        "        or (name like '%ML%' and name not ilike '%HTML%')\n",
        "        or name ilike '%machine learning%'\n",
        "        or name ilike '%машинн%обучен%' \n",
        "    group by 1\n",
        "    '''"
      ]
    },
    {
      "cell_type": "code",
      "execution_count": 202,
      "id": "aRIJ0mZEwU1_",
      "metadata": {
        "id": "aRIJ0mZEwU1_"
      },
      "outputs": [
        {
          "data": {
            "text/html": [
              "<div>\n",
              "<style scoped>\n",
              "    .dataframe tbody tr th:only-of-type {\n",
              "        vertical-align: middle;\n",
              "    }\n",
              "\n",
              "    .dataframe tbody tr th {\n",
              "        vertical-align: top;\n",
              "    }\n",
              "\n",
              "    .dataframe thead th {\n",
              "        text-align: right;\n",
              "    }\n",
              "</style>\n",
              "<table border=\"1\" class=\"dataframe\">\n",
              "  <thead>\n",
              "    <tr style=\"text-align: right;\">\n",
              "      <th></th>\n",
              "      <th>опыт</th>\n",
              "      <th>средняя_ зарплата</th>\n",
              "    </tr>\n",
              "  </thead>\n",
              "  <tbody>\n",
              "    <tr>\n",
              "      <th>0</th>\n",
              "      <td>Более 6 лет</td>\n",
              "      <td>NaN</td>\n",
              "    </tr>\n",
              "    <tr>\n",
              "      <th>1</th>\n",
              "      <td>Нет опыта</td>\n",
              "      <td>74643.0</td>\n",
              "    </tr>\n",
              "    <tr>\n",
              "      <th>2</th>\n",
              "      <td>От 1 года до 3 лет</td>\n",
              "      <td>139675.0</td>\n",
              "    </tr>\n",
              "    <tr>\n",
              "      <th>3</th>\n",
              "      <td>От 3 до 6 лет</td>\n",
              "      <td>243115.0</td>\n",
              "    </tr>\n",
              "  </tbody>\n",
              "</table>\n",
              "</div>"
            ],
            "text/plain": [
              "                 опыт  средняя_ зарплата\n",
              "0         Более 6 лет                NaN\n",
              "1           Нет опыта            74643.0\n",
              "2  От 1 года до 3 лет           139675.0\n",
              "3       От 3 до 6 лет           243115.0"
            ]
          },
          "execution_count": 202,
          "metadata": {},
          "output_type": "execute_result"
        }
      ],
      "source": [
        "# Используем метод read_sql_query, чтобы получить результаты запроса в виде датафрейма.\n",
        "df = pd.read_sql_query(query_6_6, connection)\n",
        "df"
      ]
    },
    {
      "cell_type": "markdown",
      "id": "6a7892b4-4113-4746-adce-18aa2844f18e",
      "metadata": {
        "id": "6a7892b4-4113-4746-adce-18aa2844f18e"
      },
      "source": [
        "***"
      ]
    },
    {
      "attachments": {},
      "cell_type": "markdown",
      "id": "UjLWUptVwY1o",
      "metadata": {
        "id": "UjLWUptVwY1o"
      },
      "source": [
        "1) Из проведенного анализа следует, что из почти 50 тысяч вакансий к данным имеют отношение лишь 1771 вакансия или всего 3.5%. При этом непосредственно для начинающих датасайентистов без опыта уровня junior открыта всего 51 вакансия, что совсем ничтожно мало по сравнению с общим рынком вакансий. Для работы с SQL или postgres работодатели ищут немногим больше - 201 вакансия. Для специалистов по данным с владением питона открыта 351 вакансия.\n",
        "Отсюда следует, что рынок вакансий для специалистов по данным довольно узок, а начинающим датасайентистам без опыта вообще будет довольно сложно найти работу. \n",
        "    \n",
        "2) Для датасайентистов работодатели просят иметь в среднем 6 (почти 6,5) ключевых навыков. \n",
        "3) Средняя зарплата для датасайентиста без опыта не превышает 80 тысяч рублей, однако для соискателей с опытом от года она почти вдвое больше. То есть даже небольшой опыт работы от года до трех лет двукратно влияет на среднюю зарплату. Опыт от 3 до 6 лет оценивается работодателями в среднем на 74% ((243115-139675)/139675) выше, чем опыт от года до 3 лет. А для соискателей с опытом от 6 лет средняя зарплата вообще не указывается. Вероятно, таким специалистам она назначается по результатам собеседования уже в частном порядке в зависимости от их компетенций и опыта. "
      ]
    },
    {
      "cell_type": "markdown",
      "id": "c0ED6fh7wiBT",
      "metadata": {
        "id": "c0ED6fh7wiBT"
      },
      "source": [
        "# Общий вывод по проекту"
      ]
    },
    {
      "attachments": {},
      "cell_type": "markdown",
      "id": "h9B3BL-wwj18",
      "metadata": {
        "id": "h9B3BL-wwj18"
      },
      "source": [
        "Мы провели исследование на базе из 49197 вакансий от 23501 работодателя, которые ищут IT специалистов из 294 сфер деятельности в 1362 регионах. \n"
      ]
    },
    {
      "attachments": {},
      "cell_type": "markdown",
      "id": "20c0e95f",
      "metadata": {},
      "source": [
        "Лидером по количеству вакансий является Москва, в ней больше 10% всех анализируемых вакансий. \n",
        "А топ-5 городов: Москва (5333), Санкт-Петербург\t(2851), Минск (2112), Новосибирск (2006), Алматы (1892). \n",
        "    Сами по себе эти цифры немного говорят, так как численность населения данных городов отличается.\n",
        "Лучше смотреть количество вакансий в зависимости от населенности данных городов. Дат вакансий у нас нет, для наглядности проведения такого исследования предположим, это 2020 год.  "
      ]
    },
    {
      "cell_type": "code",
      "execution_count": 203,
      "id": "b1423fee",
      "metadata": {},
      "outputs": [
        {
          "data": {
            "text/html": [
              "<div>\n",
              "<style scoped>\n",
              "    .dataframe tbody tr th:only-of-type {\n",
              "        vertical-align: middle;\n",
              "    }\n",
              "\n",
              "    .dataframe tbody tr th {\n",
              "        vertical-align: top;\n",
              "    }\n",
              "\n",
              "    .dataframe thead th {\n",
              "        text-align: right;\n",
              "    }\n",
              "</style>\n",
              "<table border=\"1\" class=\"dataframe\">\n",
              "  <thead>\n",
              "    <tr style=\"text-align: right;\">\n",
              "      <th></th>\n",
              "      <th>area</th>\n",
              "      <th>count</th>\n",
              "      <th>population</th>\n",
              "      <th>vac_ratio_%</th>\n",
              "    </tr>\n",
              "  </thead>\n",
              "  <tbody>\n",
              "    <tr>\n",
              "      <th>0</th>\n",
              "      <td>Москва</td>\n",
              "      <td>5333</td>\n",
              "      <td>13010</td>\n",
              "      <td>0.040992</td>\n",
              "    </tr>\n",
              "    <tr>\n",
              "      <th>1</th>\n",
              "      <td>Санкт-Петербург</td>\n",
              "      <td>2851</td>\n",
              "      <td>5602</td>\n",
              "      <td>0.050893</td>\n",
              "    </tr>\n",
              "    <tr>\n",
              "      <th>2</th>\n",
              "      <td>Минск</td>\n",
              "      <td>2112</td>\n",
              "      <td>2018</td>\n",
              "      <td>0.104658</td>\n",
              "    </tr>\n",
              "    <tr>\n",
              "      <th>3</th>\n",
              "      <td>Новосибирск</td>\n",
              "      <td>2006</td>\n",
              "      <td>1634</td>\n",
              "      <td>0.122766</td>\n",
              "    </tr>\n",
              "    <tr>\n",
              "      <th>4</th>\n",
              "      <td>Алматы</td>\n",
              "      <td>1892</td>\n",
              "      <td>2001</td>\n",
              "      <td>0.094553</td>\n",
              "    </tr>\n",
              "  </tbody>\n",
              "</table>\n",
              "</div>"
            ],
            "text/plain": [
              "              area  count  population  vac_ratio_%\n",
              "0           Москва   5333       13010     0.040992\n",
              "1  Санкт-Петербург   2851        5602     0.050893\n",
              "2            Минск   2112        2018     0.104658\n",
              "3      Новосибирск   2006        1634     0.122766\n",
              "4           Алматы   1892        2001     0.094553"
            ]
          },
          "metadata": {},
          "output_type": "display_data"
        }
      ],
      "source": [
        "# Для дополнительного исследования построим новые столбцы к таблице из запроса 4_1, оставив только топ-5 городов и указав \n",
        "# населенность в этих городах (данные Росстата, Белстата и Бюро национальной статистики Казахстана на 2020 год).\n",
        "#  А так же добавим столбец отношения количества вакансий к численности населения рассматриваемых городов. \n",
        "# Предварительно создадим список численности для этих городов:\n",
        "display(df_4_1_ext)"
      ]
    },
    {
      "attachments": {},
      "cell_type": "markdown",
      "id": "615c06ed",
      "metadata": {},
      "source": [
        "\n",
        " \n",
        "Из дополнительного датафрейма df_4_1_ext видно, что Москва хоть и является лидером по абсолютному количеству вакансий, в процентном отношении к числу ее жителей это всего 0,04%. А Новосибирск, занимающий в абсолюте 4 место, является действительным лидером по числу it вакансий в отношении к числу жителей. За ним идет Минск.\n",
        "Получается, что на исследуемых данных концентрация поиска айти специалистов выше всего в Новосибирске и Минске. \n",
        "\n",
        "Информацию о зарплате (нижней или верхней границе) указывают лишь половина работодателей. Средняя нижняя граница зарплатной вилки  равна 71065 рублей, а средняя верхняя 110537. Разрыв небольшой, как и сами суммы, это, вероятно, объясняется тем, что из общего числа вакансий (49197) больше половины - работа для специалистов с опытом от 1 года до 3 лет (26 тысяч), либо вообще без него. Это может говорить о растущем рынке айтиспециалистов, растущем спросе на них, так как работодатели готовы нанимать начинающих специалистов. \n",
        "\n",
        "Абсолютное большинство вакансий (35367)  - это работа с полной занятостью и полным рабочим днем, количество вакансий с удаленной занятостью многократно ниже. Это говорит о том, что большинство работодателей при найме на полный рабочий день не готовы отпускать своих айтиспециалистов на удаленку, большинство желают видеть их в офисе ежедневно. \n",
        "\n",
        "Топ-3 по представленности компаний в регионах являются: \"Яндекс\" (181 регион), \"Ростелеком\" (152 региона), \"Спецремонт\" (116 регионов).  При этом \"Яндекс\" является абсолютным лидером по количеству вакансий, компания ищет 1933 специалиста в области айти, четверть из которых приходится на города миллионники. На втором месте \"Ростелеком\" (491 вакансия), третье место \"Тинькофф\" (444 вакансии). Можно сделать вывод, что работа в айти сфере есть далеко не только в столице или городах миллионниках, в регионах тоже широкая представленность. \n",
        "\n",
        "Из общего количества работодателей (23501) 3553 ищут специалистов в сферу разработки ПО, или 15%. Из дополнительного запроса, выведенного в датафрейм df_5_6_6 так же видно, что это сфера самая многочисленная."
      ]
    },
    {
      "cell_type": "code",
      "execution_count": 204,
      "id": "f17aeeeb",
      "metadata": {},
      "outputs": [
        {
          "data": {
            "text/html": [
              "<div>\n",
              "<style scoped>\n",
              "    .dataframe tbody tr th:only-of-type {\n",
              "        vertical-align: middle;\n",
              "    }\n",
              "\n",
              "    .dataframe tbody tr th {\n",
              "        vertical-align: top;\n",
              "    }\n",
              "\n",
              "    .dataframe thead th {\n",
              "        text-align: right;\n",
              "    }\n",
              "</style>\n",
              "<table border=\"1\" class=\"dataframe\">\n",
              "  <thead>\n",
              "    <tr style=\"text-align: right;\">\n",
              "      <th></th>\n",
              "      <th>name</th>\n",
              "      <th>count</th>\n",
              "    </tr>\n",
              "  </thead>\n",
              "  <tbody>\n",
              "    <tr>\n",
              "      <th>0</th>\n",
              "      <td>Разработка программного обеспечения</td>\n",
              "      <td>3553</td>\n",
              "    </tr>\n",
              "    <tr>\n",
              "      <th>1</th>\n",
              "      <td>Системная интеграция,  автоматизации технологи...</td>\n",
              "      <td>2993</td>\n",
              "    </tr>\n",
              "    <tr>\n",
              "      <th>2</th>\n",
              "      <td>Интернет-компания (поисковики, платежные систе...</td>\n",
              "      <td>1675</td>\n",
              "    </tr>\n",
              "    <tr>\n",
              "      <th>3</th>\n",
              "      <td>Маркетинговые, рекламные, BTL, дизайнерские, E...</td>\n",
              "      <td>798</td>\n",
              "    </tr>\n",
              "    <tr>\n",
              "      <th>4</th>\n",
              "      <td>Консалтинговые услуги</td>\n",
              "      <td>662</td>\n",
              "    </tr>\n",
              "    <tr>\n",
              "      <th>...</th>\n",
              "      <td>...</td>\n",
              "      <td>...</td>\n",
              "    </tr>\n",
              "    <tr>\n",
              "      <th>289</th>\n",
              "      <td>Лифтовое хозяйство (монтаж, сервис, ремонт)</td>\n",
              "      <td>4</td>\n",
              "    </tr>\n",
              "    <tr>\n",
              "      <th>290</th>\n",
              "      <td>Ритуальные услуги</td>\n",
              "      <td>4</td>\n",
              "    </tr>\n",
              "    <tr>\n",
              "      <th>291</th>\n",
              "      <td>Ботанический сад, зоопарк, заповедник</td>\n",
              "      <td>3</td>\n",
              "    </tr>\n",
              "    <tr>\n",
              "      <th>292</th>\n",
              "      <td>Автошкола</td>\n",
              "      <td>3</td>\n",
              "    </tr>\n",
              "    <tr>\n",
              "      <th>293</th>\n",
              "      <td>Ассоциация в сфере культуры, искусства</td>\n",
              "      <td>1</td>\n",
              "    </tr>\n",
              "  </tbody>\n",
              "</table>\n",
              "<p>294 rows × 2 columns</p>\n",
              "</div>"
            ],
            "text/plain": [
              "                                                  name  count\n",
              "0                  Разработка программного обеспечения   3553\n",
              "1    Системная интеграция,  автоматизации технологи...   2993\n",
              "2    Интернет-компания (поисковики, платежные систе...   1675\n",
              "3    Маркетинговые, рекламные, BTL, дизайнерские, E...    798\n",
              "4                                Консалтинговые услуги    662\n",
              "..                                                 ...    ...\n",
              "289        Лифтовое хозяйство (монтаж, сервис, ремонт)      4\n",
              "290                                  Ритуальные услуги      4\n",
              "291              Ботанический сад, зоопарк, заповедник      3\n",
              "292                                          Автошкола      3\n",
              "293             Ассоциация в сфере культуры, искусства      1\n",
              "\n",
              "[294 rows x 2 columns]"
            ]
          },
          "metadata": {},
          "output_type": "display_data"
        }
      ],
      "source": [
        "#Дополнительно создадим запрос, где выведем все сферы деятельности представленных в таблице employers компаний\n",
        "#  и количество компаний для каждой сферы в порядке убывания. \n",
        "display(df_5_6_6)"
      ]
    },
    {
      "attachments": {},
      "cell_type": "markdown",
      "id": "b05e83de",
      "metadata": {},
      "source": [
        "Из проведенного анализа следует, что из почти 50 тысяч вакансий к данным имеют отношение лишь 1771 вакансия или всего 3.5%. При этом непосредственно для начинающих датасайентистов без опыта уровня junior открыта всего 51 вакансия, что совсем ничтожно мало по сравнению с общим рынком вакансий. Для работы с SQL или postgres работодатели ищут немногим больше - 201 вакансия. Для специалистов по данным с владением питона открыта 351 вакансия.\n",
        "Отсюда следует, что рынок вакансий для специалистов по данным довольно узок, а начинающим датасайентистам без опыта вообще будет довольно сложно найти работу. \n",
        "    \n",
        "Средняя зарплата для датасайентиста без опыта не превышает 80 тысяч рублей, однако для соискателей с опытом от года она почти вдвое больше. То есть даже небольшой опыт работы от года до трех лет двукратно влияет на среднюю зарплату. Опыт от 3 до 6 лет оценивается работодателями в среднем на 74% ((243115-139675)/139675) выше, чем опыт от года до 3 лет. А для соискателей с опытом от 6 лет средняя зарплата вообще не указывается. Вероятно, таким специалистам она назначается по результатам собеседования уже в частном порядке в зависимости от их компетенций и опыта.\n",
        "\n",
        "В рамках еще одного дополнительного исследования построим график среднего уровня заработной платы по топ-7 городам по количеству вакансий для соискателей без опыта:\n"
      ]
    },
    {
      "cell_type": "code",
      "execution_count": 205,
      "id": "4427af10",
      "metadata": {},
      "outputs": [],
      "source": [
        "query_6_7 = '''\n",
        "    select\n",
        "        a.name регион,\n",
        "        round(avg(coalesce((salary_from+salary_to)/2, salary_from, salary_to)), 0) средняя_зарплата\n",
        "    from\n",
        "        vacancies v\n",
        "        join areas a on a.id = v.area_id\n",
        "    where \n",
        "        v.experience = 'Нет опыта'\n",
        "    group by 1\n",
        "    order by count(v.id) desc\n",
        "    nulls last\n",
        "    limit 7\n",
        "              '''"
      ]
    },
    {
      "cell_type": "code",
      "execution_count": 207,
      "id": "775f41d0",
      "metadata": {},
      "outputs": [
        {
          "data": {
            "image/png": "[encoded data removed]",
            "text/plain": [
              "<Figure size 1000x500 with 1 Axes>"
            ]
          },
          "metadata": {},
          "output_type": "display_data"
        }
      ],
      "source": [
        "# Используем метод read_sql_query, чтобы получить результаты запроса в виде датафрейма.\n",
        "df_6_7 = pd.read_sql_query(query_6_7, connection)\n",
        "\n",
        "# импортируем библиотеку seaborn  и строим столбчатую диаграмму\n",
        "import seaborn as sns\n",
        "import matplotlib.pyplot as plt\n",
        "fig = plt.figure(figsize=(10, 5))\n",
        "barplot = sns.barplot(\n",
        "    data=df_6_7,\n",
        "    x='регион',\n",
        "    y='средняя_зарплата')"
      ]
    },
    {
      "attachments": {},
      "cell_type": "markdown",
      "id": "a23ffef0",
      "metadata": {},
      "source": [
        "Видим, что в топ-7 регионов с наибольшим числом вакансий для специалистов без опыта работы входят только города-миллионники, причем самая высокая средняя зарплата ожидаемо оказалась в Москве, а вот на втором месте неожиданно оказался Новосибирск, по численности населения находящийся на 4 месте (согласно проведенному выше анализу). "
      ]
    },
    {
      "cell_type": "code",
      "execution_count": null,
      "id": "795905cc",
      "metadata": {},
      "outputs": [],
      "source": [
        "# Закрываем соединение\n",
        "connection.close()"
      ]
    }
  ],
  "metadata": {
    "colab": {
      "collapsed_sections": [
        "8d62a9f3-f64e-4fe7-bdac-c4dffa16155e"
      ],
      "provenance": []
    },
    "kernelspec": {
      "display_name": "Python 3.11.0 64-bit",
      "language": "python",
      "name": "python3"
    },
    "language_info": {
      "codemirror_mode": {
        "name": "ipython",
        "version": 3
      },
      "file_extension": ".py",
      "mimetype": "text/x-python",
      "name": "python",
      "nbconvert_exporter": "python",
      "pygments_lexer": "ipython3",
      "version": "3.11.0"
    },
    "vscode": {
      "interpreter": {
        "hash": "7dc41801cb733823d51f5a3b2beda62df20d3bf011ad730ae0b8a4522a55944d"
      }
    }
  },
  "nbformat": 4,
  "nbformat_minor": 5
}
