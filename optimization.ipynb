{
 "cells": [
  {
   "attachments": {},
   "cell_type": "markdown",
   "metadata": {},
   "source": [
    "Импортируем необходимые библиотеки, прочитаем датасет и разделим его на тренировочный и тестовый."
   ]
  },
  {
   "cell_type": "code",
   "execution_count": 1,
   "metadata": {},
   "outputs": [
    {
     "name": "stderr",
     "output_type": "stream",
     "text": [
      "C:\\Users\\tatye\\AppData\\Local\\Temp\\ipykernel_5224\\586730628.py:16: MatplotlibDeprecationWarning: The seaborn styles shipped by Matplotlib are deprecated since 3.6, as they no longer correspond to the styles shipped by seaborn. However, they will remain available as 'seaborn-v0_8-<style>'. Alternatively, directly use the seaborn API instead.\n",
      "  plt.style.use('seaborn')\n"
     ]
    }
   ],
   "source": [
    "#импорт библиотек\n",
    "import numpy as np #для матричных вычислений\n",
    "import pandas as pd #для анализа и предобработки данных\n",
    "import matplotlib.pyplot as plt #для визуализации\n",
    "import seaborn as sns #для визуализации\n",
    "\n",
    "from sklearn import linear_model #линейные моделиё\n",
    "from sklearn import tree #деревья решений\n",
    "from sklearn import ensemble #ансамбли\n",
    "from sklearn import metrics #метрики\n",
    "from sklearn import preprocessing #предобработка\n",
    "from sklearn.model_selection import train_test_split #сплитование выборки\n",
    "from sklearn.model_selection import GridSearchCV\n",
    "\n",
    "%matplotlib inline\n",
    "plt.style.use('seaborn')"
   ]
  },
  {
   "cell_type": "code",
   "execution_count": 2,
   "metadata": {},
   "outputs": [
    {
     "data": {
      "text/html": [
       "<div>\n",
       "<style scoped>\n",
       "    .dataframe tbody tr th:only-of-type {\n",
       "        vertical-align: middle;\n",
       "    }\n",
       "\n",
       "    .dataframe tbody tr th {\n",
       "        vertical-align: top;\n",
       "    }\n",
       "\n",
       "    .dataframe thead th {\n",
       "        text-align: right;\n",
       "    }\n",
       "</style>\n",
       "<table border=\"1\" class=\"dataframe\">\n",
       "  <thead>\n",
       "    <tr style=\"text-align: right;\">\n",
       "      <th></th>\n",
       "      <th>Activity</th>\n",
       "      <th>D1</th>\n",
       "      <th>D2</th>\n",
       "      <th>D3</th>\n",
       "      <th>D4</th>\n",
       "      <th>D5</th>\n",
       "      <th>D6</th>\n",
       "      <th>D7</th>\n",
       "      <th>D8</th>\n",
       "      <th>D9</th>\n",
       "      <th>...</th>\n",
       "      <th>D1767</th>\n",
       "      <th>D1768</th>\n",
       "      <th>D1769</th>\n",
       "      <th>D1770</th>\n",
       "      <th>D1771</th>\n",
       "      <th>D1772</th>\n",
       "      <th>D1773</th>\n",
       "      <th>D1774</th>\n",
       "      <th>D1775</th>\n",
       "      <th>D1776</th>\n",
       "    </tr>\n",
       "  </thead>\n",
       "  <tbody>\n",
       "    <tr>\n",
       "      <th>0</th>\n",
       "      <td>1</td>\n",
       "      <td>0.000000</td>\n",
       "      <td>0.497009</td>\n",
       "      <td>0.10</td>\n",
       "      <td>0.0</td>\n",
       "      <td>0.132956</td>\n",
       "      <td>0.678031</td>\n",
       "      <td>0.273166</td>\n",
       "      <td>0.585445</td>\n",
       "      <td>0.743663</td>\n",
       "      <td>...</td>\n",
       "      <td>0</td>\n",
       "      <td>0</td>\n",
       "      <td>0</td>\n",
       "      <td>0</td>\n",
       "      <td>0</td>\n",
       "      <td>0</td>\n",
       "      <td>0</td>\n",
       "      <td>0</td>\n",
       "      <td>0</td>\n",
       "      <td>0</td>\n",
       "    </tr>\n",
       "    <tr>\n",
       "      <th>1</th>\n",
       "      <td>1</td>\n",
       "      <td>0.366667</td>\n",
       "      <td>0.606291</td>\n",
       "      <td>0.05</td>\n",
       "      <td>0.0</td>\n",
       "      <td>0.111209</td>\n",
       "      <td>0.803455</td>\n",
       "      <td>0.106105</td>\n",
       "      <td>0.411754</td>\n",
       "      <td>0.836582</td>\n",
       "      <td>...</td>\n",
       "      <td>1</td>\n",
       "      <td>1</td>\n",
       "      <td>1</td>\n",
       "      <td>1</td>\n",
       "      <td>0</td>\n",
       "      <td>1</td>\n",
       "      <td>0</td>\n",
       "      <td>0</td>\n",
       "      <td>1</td>\n",
       "      <td>0</td>\n",
       "    </tr>\n",
       "    <tr>\n",
       "      <th>2</th>\n",
       "      <td>1</td>\n",
       "      <td>0.033300</td>\n",
       "      <td>0.480124</td>\n",
       "      <td>0.00</td>\n",
       "      <td>0.0</td>\n",
       "      <td>0.209791</td>\n",
       "      <td>0.610350</td>\n",
       "      <td>0.356453</td>\n",
       "      <td>0.517720</td>\n",
       "      <td>0.679051</td>\n",
       "      <td>...</td>\n",
       "      <td>0</td>\n",
       "      <td>0</td>\n",
       "      <td>0</td>\n",
       "      <td>0</td>\n",
       "      <td>0</td>\n",
       "      <td>0</td>\n",
       "      <td>0</td>\n",
       "      <td>0</td>\n",
       "      <td>0</td>\n",
       "      <td>0</td>\n",
       "    </tr>\n",
       "    <tr>\n",
       "      <th>3</th>\n",
       "      <td>1</td>\n",
       "      <td>0.000000</td>\n",
       "      <td>0.538825</td>\n",
       "      <td>0.00</td>\n",
       "      <td>0.5</td>\n",
       "      <td>0.196344</td>\n",
       "      <td>0.724230</td>\n",
       "      <td>0.235606</td>\n",
       "      <td>0.288764</td>\n",
       "      <td>0.805110</td>\n",
       "      <td>...</td>\n",
       "      <td>0</td>\n",
       "      <td>0</td>\n",
       "      <td>0</td>\n",
       "      <td>0</td>\n",
       "      <td>0</td>\n",
       "      <td>0</td>\n",
       "      <td>0</td>\n",
       "      <td>0</td>\n",
       "      <td>0</td>\n",
       "      <td>0</td>\n",
       "    </tr>\n",
       "    <tr>\n",
       "      <th>4</th>\n",
       "      <td>0</td>\n",
       "      <td>0.100000</td>\n",
       "      <td>0.517794</td>\n",
       "      <td>0.00</td>\n",
       "      <td>0.0</td>\n",
       "      <td>0.494734</td>\n",
       "      <td>0.781422</td>\n",
       "      <td>0.154361</td>\n",
       "      <td>0.303809</td>\n",
       "      <td>0.812646</td>\n",
       "      <td>...</td>\n",
       "      <td>0</td>\n",
       "      <td>0</td>\n",
       "      <td>0</td>\n",
       "      <td>0</td>\n",
       "      <td>0</td>\n",
       "      <td>0</td>\n",
       "      <td>0</td>\n",
       "      <td>0</td>\n",
       "      <td>0</td>\n",
       "      <td>0</td>\n",
       "    </tr>\n",
       "  </tbody>\n",
       "</table>\n",
       "<p>5 rows × 1777 columns</p>\n",
       "</div>"
      ],
      "text/plain": [
       "   Activity        D1        D2    D3   D4        D5        D6        D7  \\\n",
       "0         1  0.000000  0.497009  0.10  0.0  0.132956  0.678031  0.273166   \n",
       "1         1  0.366667  0.606291  0.05  0.0  0.111209  0.803455  0.106105   \n",
       "2         1  0.033300  0.480124  0.00  0.0  0.209791  0.610350  0.356453   \n",
       "3         1  0.000000  0.538825  0.00  0.5  0.196344  0.724230  0.235606   \n",
       "4         0  0.100000  0.517794  0.00  0.0  0.494734  0.781422  0.154361   \n",
       "\n",
       "         D8        D9  ...  D1767  D1768  D1769  D1770  D1771  D1772  D1773  \\\n",
       "0  0.585445  0.743663  ...      0      0      0      0      0      0      0   \n",
       "1  0.411754  0.836582  ...      1      1      1      1      0      1      0   \n",
       "2  0.517720  0.679051  ...      0      0      0      0      0      0      0   \n",
       "3  0.288764  0.805110  ...      0      0      0      0      0      0      0   \n",
       "4  0.303809  0.812646  ...      0      0      0      0      0      0      0   \n",
       "\n",
       "   D1774  D1775  D1776  \n",
       "0      0      0      0  \n",
       "1      0      1      0  \n",
       "2      0      0      0  \n",
       "3      0      0      0  \n",
       "4      0      0      0  \n",
       "\n",
       "[5 rows x 1777 columns]"
      ]
     },
     "execution_count": 2,
     "metadata": {},
     "output_type": "execute_result"
    }
   ],
   "source": [
    "data = pd.read_csv('data/molecule.csv')\n",
    "data.head()"
   ]
  },
  {
   "cell_type": "code",
   "execution_count": 3,
   "metadata": {},
   "outputs": [],
   "source": [
    "#Создаем матрицу наблюдений X и вектор ответов y\n",
    "X = data.drop(['Activity'], axis=1)\n",
    "y = data['Activity']\n",
    "\n",
    "#Разделяем выборку на тренировочную и тестовую в соотношении 80/20. \n",
    "#Для сохранения соотношений целевого признака используем параметр stratify (стратифицированное разбиение)\n",
    "X_train, X_test, y_train, y_test = train_test_split(X, y, stratify=y, random_state = 1, test_size = 0.2)"
   ]
  },
  {
   "attachments": {},
   "cell_type": "markdown",
   "metadata": {},
   "source": [
    "# <center> Настройки по умолчанию"
   ]
  },
  {
   "attachments": {},
   "cell_type": "markdown",
   "metadata": {},
   "source": [
    "### <center> Логистическая регрессия \n",
    "Построим модель логистической регрессии с параметрами по умолчанию. Зафиксируем метрики."
   ]
  },
  {
   "cell_type": "code",
   "execution_count": 4,
   "metadata": {},
   "outputs": [
    {
     "name": "stdout",
     "output_type": "stream",
     "text": [
      "f1_score на тренировочном наборе: 0.89\n",
      "f1_score на тестовом наборе: 0.78\n"
     ]
    }
   ],
   "source": [
    "#Создаем объект класса логистическая регрессия\n",
    "log_reg = linear_model.LogisticRegression(max_iter = 1000)\n",
    "#Обучаем модель, минимизируя logloss\n",
    "log_reg.fit(X_train, y_train)\n",
    "\n",
    "#предскажем значения на тренировочной выборке и выведем f1 score \n",
    "y_train_pred = log_reg.predict(X_train)\n",
    "print('f1_score на тренировочном наборе: {:.2f}'.format(metrics.f1_score(y_train, y_train_pred)))\n",
    "#предскажем значения на тестовой выборке и выведем f1 score \n",
    "y_test_pred = log_reg.predict(X_test)\n",
    "print('f1_score на тестовом наборе: {:.2f}'.format(metrics.f1_score(y_test, y_test_pred)))"
   ]
  },
  {
   "attachments": {},
   "cell_type": "markdown",
   "metadata": {},
   "source": [
    "### <center> Случайный лес\n",
    "Построим модель случайного леса с параметрами по умолчанию. Зафиксируем метрики.\n"
   ]
  },
  {
   "cell_type": "code",
   "execution_count": 5,
   "metadata": {},
   "outputs": [
    {
     "name": "stdout",
     "output_type": "stream",
     "text": [
      "f1_score на тренировочном наборе: 1.00\n",
      "f1_score на тестовом наборе: 0.81\n"
     ]
    }
   ],
   "source": [
    "#Создаем объект класса случайный лес\n",
    "rf = ensemble.RandomForestClassifier(random_state=42)\n",
    "\n",
    "#Обучаем модель\n",
    "rf.fit(X_train, y_train)\n",
    "\n",
    "#Выводим значения метрики \n",
    "y_train_pred = rf.predict(X_train)\n",
    "print('f1_score на тренировочном наборе: {:.2f}'.format(metrics.f1_score(y_train, y_train_pred)))\n",
    "y_test_pred = rf.predict(X_test)\n",
    "print('f1_score на тестовом наборе: {:.2f}'.format(metrics.f1_score(y_test, y_test_pred)))"
   ]
  },
  {
   "attachments": {},
   "cell_type": "markdown",
   "metadata": {},
   "source": [
    "# <center> Оптимизация и поиск гиперпараметров"
   ]
  },
  {
   "attachments": {},
   "cell_type": "markdown",
   "metadata": {},
   "source": [
    "### <center> GridSearchCV"
   ]
  },
  {
   "attachments": {},
   "cell_type": "markdown",
   "metadata": {},
   "source": [
    "Сначала проведем оптимизацию гиперпараметров через поиск по сетке с кросс-валидацией для алгоритма логистической регрессии."
   ]
  },
  {
   "cell_type": "code",
   "execution_count": 6,
   "metadata": {},
   "outputs": [
    {
     "name": "stdout",
     "output_type": "stream",
     "text": [
      "Наилучшие значения гиперпараметров: {'C': 0.1, 'penalty': 'l2', 'solver': 'sag'}\n",
      "f1_score на тренировочном наборе: 0.85\n",
      "f1_score на тестовом наборе: 0.79\n"
     ]
    }
   ],
   "source": [
    "# укажем искомые гиперпараметры:\n",
    "param_grid = {'penalty': ['l2', 'none'] , # тип регуляризации\n",
    "              'solver': ['lbfgs', 'sag'], # алгоритм оптимизации\n",
    "               'C': [0.01, 0.1, 0.3, 0.5, 0.7, 0.9, 1]}, # уровень силы регурялизации\n",
    "              \n",
    "# Создаем объект grid_search, передаем в него модель (LogisticRegression), сетку param_grid, число фолдов,\n",
    "# и n_jobs = -1, чтобы использовать все доступные ядра для расчетов.\n",
    "grid_search = GridSearchCV(\n",
    "    estimator=linear_model.LogisticRegression(random_state=1, max_iter=1000), \n",
    "    param_grid=param_grid, \n",
    "    cv=5, \n",
    "    n_jobs = -1\n",
    ")  \n",
    "# запускаем кросс-валидацию на тренировочной выборке для каждой комбинации гиперпараметров, ищем лучшие и обучаем модель\n",
    "grid_search.fit(X_train, y_train) \n",
    "\n",
    "# выведем наилучшие значения гиперпараметров\n",
    "print(\"Наилучшие значения гиперпараметров: {}\".format(grid_search.best_params_))\n",
    "# строим предсказания и выводим значения метрики f1 на тестовой и тренировочной выборках\n",
    "y_train_pred = grid_search.predict(X_train)\n",
    "print('f1_score на тренировочном наборе: {:.2f}'.format(metrics.f1_score(y_train, y_train_pred)))\n",
    "y_test_pred = grid_search.predict(X_test)\n",
    "print('f1_score на тестовом наборе: {:.2f}'.format(metrics.f1_score(y_test, y_test_pred)))\n"
   ]
  },
  {
   "attachments": {},
   "cell_type": "markdown",
   "metadata": {},
   "source": [
    "Теперь проведем оптимизацию гиперпараметров через поиск по сетке с кросс-валидацией для алгоритма случайного леса."
   ]
  },
  {
   "cell_type": "code",
   "execution_count": 7,
   "metadata": {},
   "outputs": [
    {
     "name": "stdout",
     "output_type": "stream",
     "text": [
      "Наилучшие значения гиперпараметров: {'C': 0.1, 'penalty': 'l2', 'solver': 'sag'}\n",
      "f1_score на тренировочном наборе: 0.85\n",
      "f1_score на тестовом наборе: 0.79\n"
     ]
    }
   ],
   "source": [
    "# укажем искомые гиперпараметры:\n",
    "param_grid = {'n_estimators': list(range(80, 200, 30)),\n",
    "              'min_samples_leaf': [1,5,8],\n",
    "              'max_depth': list(np.linspace(5, 20, 10, dtype=int))}\n",
    "              \n",
    "# Создаем объект grid_search, передаем в него модель (Случайный лес), сетку param_grid, число фолдов,\n",
    "# и n_jobs = -1, чтобы использовать все доступные ядра для расчетов.\n",
    "grid_search_tree = GridSearchCV(\n",
    "    estimator=ensemble.RandomForestClassifier(random_state=42), \n",
    "    param_grid=param_grid, \n",
    "    cv=5, \n",
    "    n_jobs = -1\n",
    ")  \n",
    "# запускаем кросс-валидацию на тренировочной выборке для каждой комбинации гиперпараметров, ищем лучшие и обучаем модель\n",
    "grid_search.fit(X_train, y_train) \n",
    "\n",
    "# выведем наилучшие значения гиперпараметров\n",
    "print(\"Наилучшие значения гиперпараметров: {}\".format(grid_search.best_params_))\n",
    "# строим предсказания и выводим значения метрики f1 на тестовой и тренировочной выборках\n",
    "y_train_pred = grid_search.predict(X_train)\n",
    "print('f1_score на тренировочном наборе: {:.2f}'.format(metrics.f1_score(y_train, y_train_pred)))\n",
    "y_test_pred = grid_search.predict(X_test)\n",
    "print('f1_score на тестовом наборе: {:.2f}'.format(metrics.f1_score(y_test, y_test_pred)))\n"
   ]
  },
  {
   "attachments": {},
   "cell_type": "markdown",
   "metadata": {},
   "source": [
    "### <center> **RandomizedSearchCV**"
   ]
  },
  {
   "attachments": {},
   "cell_type": "markdown",
   "metadata": {},
   "source": [
    "Теперь переберем и попробуем найти оптимальные гиперпараметры через рандомизированный поиск с использованием класса RandomizedSearchCV.\n",
    "Сначала для алгоритма логистической регрессии."
   ]
  },
  {
   "cell_type": "code",
   "execution_count": 10,
   "metadata": {},
   "outputs": [
    {
     "name": "stdout",
     "output_type": "stream",
     "text": [
      "Наилучшие значения гиперпараметров: {'solver': 'sag', 'penalty': 'l2', 'C': 0.1}\n",
      "f1_score на тренировочном наборе: 0.85\n",
      "f1_score на тестовом наборе: 0.79\n"
     ]
    }
   ],
   "source": [
    "# импортируем библиотеку\n",
    "from sklearn.model_selection import RandomizedSearchCV\n",
    "\n",
    "# передаем словари с наборами гиперпараметров:\n",
    "param_distributions = {'penalty': ['l2', 'none'] , # тип регуляризации\n",
    "              'solver': ['lbfgs', 'sag'], # алгоритм оптимизации\n",
    "               'C': [0.01, 0.1, 0.3, 0.5, 0.7, 0.9, 1]}, # уровень силы регурялизации\n",
    "              \n",
    "      \n",
    "random_search = RandomizedSearchCV(\n",
    "    estimator=linear_model.LogisticRegression(random_state=42, max_iter=1000), \n",
    "    param_distributions=param_distributions, \n",
    "    cv=5, \n",
    "    n_iter = 10, \n",
    "    n_jobs = -1\n",
    ")  \n",
    "\n",
    "# запускаем кросс-валидацию на тренировочной выборке для каждой комбинации гиперпараметров, ищем лучшие и обучаем модель\n",
    "random_search.fit(X_train, y_train) \n",
    "\n",
    "# выведем наилучшие значения гиперпараметров\n",
    "print(\"Наилучшие значения гиперпараметров: {}\".format(random_search.best_params_))\n",
    "# строим предсказания и выводим значения метрики f1 на тестовой и тренировочной выборках\n",
    "y_train_pred = random_search.predict(X_train)\n",
    "print('f1_score на тренировочном наборе: {:.2f}'.format(metrics.f1_score(y_train, y_train_pred)))\n",
    "y_test_pred = random_search.predict(X_test)\n",
    "print('f1_score на тестовом наборе: {:.2f}'.format(metrics.f1_score(y_test, y_test_pred)))"
   ]
  },
  {
   "attachments": {},
   "cell_type": "markdown",
   "metadata": {},
   "source": [
    "Теперь проделаем аналогичные действия для алгоритма случайного леса, указав искомые гиперпараметры для этого вида модели. "
   ]
  },
  {
   "cell_type": "code",
   "execution_count": 11,
   "metadata": {},
   "outputs": [
    {
     "name": "stdout",
     "output_type": "stream",
     "text": [
      "Наилучшие значения гиперпараметров: {'solver': 'sag', 'penalty': 'l2', 'C': 0.1}\n",
      "f1_score на тренировочном наборе: 0.85\n",
      "f1_score на тестовом наборе: 0.79\n"
     ]
    }
   ],
   "source": [
    "# передаем словари с наборами гиперпараметров:\n",
    "param_grid = {'n_estimators': list(range(100, 200, 20)),\n",
    "              'min_samples_leaf': [5, 9],\n",
    "              'max_depth': list(np.linspace(5, 40, 10, dtype=int))\n",
    "              }\n",
    "            \n",
    "random_search_forest = RandomizedSearchCV(\n",
    "    estimator=ensemble.RandomForestClassifier(random_state=42), \n",
    "    param_distributions=param_grid, \n",
    "    cv=5,\n",
    "    n_iter = 15, \n",
    "    n_jobs = -1\n",
    ")   \n",
    "\n",
    "# запускаем кросс-валидацию на тренировочной выборке для каждой комбинации гиперпараметров, ищем лучшие и обучаем модель\n",
    "random_search.fit(X_train, y_train) \n",
    "\n",
    "# выведем наилучшие значения гиперпараметров\n",
    "print(\"Наилучшие значения гиперпараметров: {}\".format(random_search.best_params_))\n",
    "# строим предсказания и выводим значения метрики f1 на тестовой и тренировочной выборках\n",
    "y_train_pred = random_search.predict(X_train)\n",
    "print('f1_score на тренировочном наборе: {:.2f}'.format(metrics.f1_score(y_train, y_train_pred)))\n",
    "y_test_pred = random_search.predict(X_test)\n",
    "print('f1_score на тестовом наборе: {:.2f}'.format(metrics.f1_score(y_test, y_test_pred)))"
   ]
  },
  {
   "attachments": {},
   "cell_type": "markdown",
   "metadata": {},
   "source": [
    "Метрика упорно показывает одно и тоже значение на разных алгоритмах моделей, построенных с использованием поиска по сетке и рандомизированного поиска по сетке. Перейдем к продвинутам способам оптимизации. "
   ]
  },
  {
   "attachments": {},
   "cell_type": "markdown",
   "metadata": {},
   "source": [
    "### <center> Hyperopt"
   ]
  },
  {
   "attachments": {},
   "cell_type": "markdown",
   "metadata": {},
   "source": [
    "Проведем оптимизацию гиперпараметров с помощью алгоритма TPE библиотекой Hyperopt для модели случайного леса."
   ]
  },
  {
   "cell_type": "code",
   "execution_count": 12,
   "metadata": {},
   "outputs": [],
   "source": [
    "#делаем импорт библиотеки\n",
    "from sklearn.model_selection import cross_val_score\n",
    "import hyperopt\n",
    "from hyperopt import hp, fmin, tpe, Trials\n",
    "from click import option\n",
    "from requests import options\n"
   ]
  },
  {
   "cell_type": "code",
   "execution_count": 13,
   "metadata": {},
   "outputs": [
    {
     "name": "stdout",
     "output_type": "stream",
     "text": [
      "  0%|          | 0/25 [00:00<?, ?trial/s, best loss=?]"
     ]
    },
    {
     "name": "stdout",
     "output_type": "stream",
     "text": [
      "100%|██████████| 25/25 [00:52<00:00,  2.09s/trial, best loss: -0.9785801713586292]\n",
      "f1_score на тренировочном наборе: 0.98\n",
      "f1_score на тестовом наборе: 0.82\n"
     ]
    }
   ],
   "source": [
    "trials = Trials() # используется для логирования результатов\n",
    "\n",
    "# зададим пространство поиска гиперпараметров\n",
    "space={'n_estimators': hp.quniform('n_estimators', 50, 300, 20),\n",
    "       'max_depth' : hp.quniform('max_depth', 15, 40, 1),\n",
    "       'min_samples_leaf': hp.quniform('min_samples_leaf', 3, 10, 1)\n",
    "      }\n",
    "\n",
    "# зафксируем random_state\n",
    "random_state =42\n",
    "\n",
    "# создадим функцию для минимизицации метрики\n",
    "def hyperopt_gb(params, cv=5, X=X_train, y=y_train, random_state=random_state):\n",
    "    # функция получает комбинацию гиперпараметров в \"params\"\n",
    "    params = {'n_estimators': int(params['n_estimators']), \n",
    "              'max_depth': int(params['max_depth']), \n",
    "              'min_samples_leaf': int(params['min_samples_leaf'])\n",
    "              }\n",
    "    # используем эту комбинацию для построения модели\n",
    "    model = ensemble.RandomForestClassifier(**params, random_state=random_state)\n",
    " \n",
    "    # обучаем модель\n",
    "    model.fit(X, y)\n",
    "    score = metrics.f1_score(y, model.predict(X))\n",
    "    # метрику необходимо минимизировать, поэтому ставим знак минус\n",
    "    return -score\n",
    " \n",
    "    # начинаем подбор гиперпараметров\n",
    "best=fmin(hyperopt_gb, # наша функция \n",
    "          space=space, # пространство гиперпараметров\n",
    "          algo=tpe.suggest, # алгоритм оптимизации, установлен по умолчанию, задавать необязательно\n",
    "          max_evals=25, # максимальное количество итераций\n",
    "          trials=trials, # логирование результатов\n",
    "          rstate=np.random.default_rng(random_state), # фиксируем для повторяемости результата\n",
    "        )\n",
    "         \n",
    "# строим и учим модель\n",
    "model = ensemble.RandomForestClassifier(random_state=random_state, \n",
    "        n_estimators=int(best['n_estimators']),  \n",
    "        max_depth=int(best['max_depth']),\n",
    "        min_samples_leaf=int(best['min_samples_leaf']))\n",
    "model.fit(X_train, y_train)\n",
    "\n",
    "# строим предсказания и выводим значения метрики f1 на тестовой и тренировочной выборках\n",
    "y_train_pred = model.predict(X_train)\n",
    "print('f1_score на тренировочном наборе: {:.2f}'.format(metrics.f1_score(y_train, y_train_pred)))\n",
    "y_test_pred = model.predict(X_test)\n",
    "print('f1_score на тестовом наборе: {:.2f}'.format(metrics.f1_score(y_test, y_test_pred)))\n"
   ]
  },
  {
   "attachments": {},
   "cell_type": "markdown",
   "metadata": {},
   "source": [
    "Проведем оптимизацию гиперпараметров с помощью алгоритма TPE библиотекой Hyperopt для модели логистической регрессии."
   ]
  },
  {
   "cell_type": "code",
   "execution_count": 14,
   "metadata": {},
   "outputs": [
    {
     "name": "stdout",
     "output_type": "stream",
     "text": [
      "100%|██████████| 30/30 [03:19<00:00,  6.65s/trial, best loss: -0.7916411179230474]\n"
     ]
    }
   ],
   "source": [
    "# зададим пространство поиска гиперпараметров\n",
    "space = {'penalty': hp.choice(label='penalty', options=['l2', 'none']) , \n",
    "        'solver': hp.choice(label='solver', options=['lbfgs', 'sag', 'newton-cg']), \n",
    "        'C': hp.uniform('C', 0.01, 1) \n",
    "        }\n",
    "\n",
    "# зафиксируем random_state\n",
    "random_state = 42\n",
    "\n",
    "# cоздадим функцию, обучающую модель логистической регрессии по переданным параметрам\n",
    "def hyperopt(space, cv=5, X=X, y=y, random_state=random_state):\n",
    "    try:\n",
    "        model=linear_model.LogisticRegression(\n",
    "        penalty = space['penalty'],\n",
    "        solver = space['solver'],\n",
    "        C=np.abs(float(space['C'])),\n",
    "        l1_ratio=float(space['l1_ratio']),\n",
    "        random_state=random_state,\n",
    "        max_iter=50        \n",
    "    )        \n",
    "    except KeyError:\n",
    "          \n",
    "        model=linear_model.LogisticRegression(\n",
    "        penalty = space['penalty'],\n",
    "        solver = space['solver'],\n",
    "        C=np.abs(float(space['C'])),\n",
    "        random_state=random_state,\n",
    "        max_iter=50\n",
    "           )\n",
    "    score = cross_val_score(model, X, y, cv=cv, scoring=\"f1\", n_jobs=-1).mean()   # применим  cross validation \n",
    "    return -score # метрику необходимо минимизировать, поэтому ставим знак минус\n",
    "\n",
    "    # начинаем подбор гиперпараметров\n",
    "trials = Trials() # используется для логирования результатов  \n",
    "\n",
    "best=fmin(hyperopt, # наша функция \n",
    "          space=space, # пространство гиперпараметров\n",
    "          algo=tpe.suggest, # алгоритм оптимизации, установлен по умолчанию, задавать необязательно\n",
    "          max_evals=30, # максимальное количество итераций\n",
    "          trials=trials, # логирование результатов\n",
    "          rstate=np.random.default_rng(random_state)# фиксируем для повторяемости результата\n",
    "         )"
   ]
  },
  {
   "cell_type": "code",
   "execution_count": 16,
   "metadata": {},
   "outputs": [
    {
     "name": "stdout",
     "output_type": "stream",
     "text": [
      "f1_score на тренировочном наборе: 0.83\n",
      "f1_score на тестовом наборе: 0.80\n"
     ]
    }
   ],
   "source": [
    "from hyperopt import space_eval\n",
    "# строим и учим модель\n",
    "model_log = linear_model.LogisticRegression(\n",
    "        penalty=space_eval(space, best)['penalty'],\n",
    "        solver=space_eval(space, best)['solver'],\n",
    "        C=float(best['C']),\n",
    "        random_state=random_state,\n",
    "        max_iter=1000)\n",
    "model_log.fit(X_train, y_train)\n",
    "\n",
    "# строим предсказания и выводим значения метрики f1 на тестовой и тренировочной выборках\n",
    "y_train_pred = model_log.predict(X_train)\n",
    "print('f1_score на тренировочном наборе: {:.2f}'.format(metrics.f1_score(y_train, y_train_pred)))\n",
    "y_test_pred = model_log.predict(X_test)\n",
    "print('f1_score на тестовом наборе: {:.2f}'.format(metrics.f1_score(y_test, y_test_pred)))"
   ]
  },
  {
   "attachments": {},
   "cell_type": "markdown",
   "metadata": {},
   "source": [
    "### <center> Optuna"
   ]
  },
  {
   "attachments": {},
   "cell_type": "markdown",
   "metadata": {},
   "source": [
    "Проведем подборку гиперпараметров методом Optuna для логистической регрессии."
   ]
  },
  {
   "cell_type": "code",
   "execution_count": 17,
   "metadata": {},
   "outputs": [],
   "source": [
    "# Устанавливаем библиотеку\n",
    "import optuna"
   ]
  },
  {
   "cell_type": "code",
   "execution_count": 18,
   "metadata": {},
   "outputs": [],
   "source": [
    "random_state = 42\n",
    "\n",
    "# создадим функцию, обучающую модель LogisticRegression по переданным гиперпараметрам\n",
    "def optuna_log(trial):\n",
    "    # задаем пространства поиска гиперпараметров\n",
    "    penalty = trial.suggest_categorical('penalty', ['l2', 'none'])\n",
    "    solver = trial.suggest_categorical('solver', ['lbfgs', 'sag', 'newton-cg'])\n",
    "    C = trial.suggest_float('C', 0.1, 1)  \n",
    "\n",
    "   # создаем модель\n",
    "    model=linear_model.LogisticRegression(\n",
    "        penalty = penalty,\n",
    "        solver = solver,\n",
    "        C=C, \n",
    "        random_state=random_state,\n",
    "        max_iter=50        \n",
    "    )   \n",
    "  # обучаем модель\n",
    "    score = cross_val_score(model, X, y, cv=5, scoring=\"f1\", n_jobs=-1).mean()\n",
    "\n",
    "    return score"
   ]
  },
  {
   "cell_type": "code",
   "execution_count": 20,
   "metadata": {},
   "outputs": [
    {
     "name": "stderr",
     "output_type": "stream",
     "text": [
      "\u001b[32m[I 2023-07-07 18:43:33,712]\u001b[0m A new study created in memory with name: LogisticRegression\u001b[0m\n",
      "\u001b[32m[I 2023-07-07 18:43:36,546]\u001b[0m Trial 0 finished with value: 0.7757525816757611 and parameters: {'penalty': 'none', 'solver': 'sag', 'C': 0.12908485596740035}. Best is trial 0 with value: 0.7757525816757611.\u001b[0m\n",
      "\u001b[32m[I 2023-07-07 18:43:40,854]\u001b[0m Trial 1 finished with value: 0.7778538666768492 and parameters: {'penalty': 'l2', 'solver': 'newton-cg', 'C': 0.3860772996762678}. Best is trial 1 with value: 0.7778538666768492.\u001b[0m\n",
      "\u001b[32m[I 2023-07-07 18:43:43,621]\u001b[0m Trial 2 finished with value: 0.7757525816757611 and parameters: {'penalty': 'none', 'solver': 'sag', 'C': 0.8455282098880559}. Best is trial 1 with value: 0.7778538666768492.\u001b[0m\n",
      "\u001b[32m[I 2023-07-07 18:43:46,618]\u001b[0m Trial 3 finished with value: 0.7757525816757611 and parameters: {'penalty': 'none', 'solver': 'sag', 'C': 0.2108414055395334}. Best is trial 1 with value: 0.7778538666768492.\u001b[0m\n",
      "\u001b[32m[I 2023-07-07 18:43:49,590]\u001b[0m Trial 4 finished with value: 0.7793857907075743 and parameters: {'penalty': 'l2', 'solver': 'sag', 'C': 0.5105959998101581}. Best is trial 4 with value: 0.7793857907075743.\u001b[0m\n",
      "\u001b[32m[I 2023-07-07 18:43:50,484]\u001b[0m Trial 5 finished with value: 0.7713203956104421 and parameters: {'penalty': 'l2', 'solver': 'lbfgs', 'C': 0.9260916260738514}. Best is trial 4 with value: 0.7793857907075743.\u001b[0m\n",
      "\u001b[32m[I 2023-07-07 18:43:54,348]\u001b[0m Trial 6 finished with value: 0.7808934460250138 and parameters: {'penalty': 'l2', 'solver': 'newton-cg', 'C': 0.27979117066962333}. Best is trial 6 with value: 0.7808934460250138.\u001b[0m\n",
      "\u001b[32m[I 2023-07-07 18:43:57,605]\u001b[0m Trial 7 finished with value: 0.7757525816757611 and parameters: {'penalty': 'none', 'solver': 'sag', 'C': 0.5242163305762024}. Best is trial 6 with value: 0.7808934460250138.\u001b[0m\n",
      "\u001b[32m[I 2023-07-07 18:43:58,458]\u001b[0m Trial 8 finished with value: 0.7604610029817153 and parameters: {'penalty': 'none', 'solver': 'lbfgs', 'C': 0.600216327126604}. Best is trial 6 with value: 0.7808934460250138.\u001b[0m\n",
      "\u001b[32m[I 2023-07-07 18:44:03,661]\u001b[0m Trial 9 finished with value: 0.7787347864583551 and parameters: {'penalty': 'l2', 'solver': 'newton-cg', 'C': 0.6689180584634015}. Best is trial 6 with value: 0.7808934460250138.\u001b[0m\n",
      "\u001b[32m[I 2023-07-07 18:44:08,327]\u001b[0m Trial 10 finished with value: 0.7813800640298798 and parameters: {'penalty': 'l2', 'solver': 'newton-cg', 'C': 0.29144811749268523}. Best is trial 10 with value: 0.7813800640298798.\u001b[0m\n",
      "\u001b[32m[I 2023-07-07 18:44:13,107]\u001b[0m Trial 11 finished with value: 0.7811932216367599 and parameters: {'penalty': 'l2', 'solver': 'newton-cg', 'C': 0.28382308691990865}. Best is trial 10 with value: 0.7813800640298798.\u001b[0m\n",
      "\u001b[32m[I 2023-07-07 18:44:17,411]\u001b[0m Trial 12 finished with value: 0.7789481225783943 and parameters: {'penalty': 'l2', 'solver': 'newton-cg', 'C': 0.3337359788198767}. Best is trial 10 with value: 0.7813800640298798.\u001b[0m\n",
      "\u001b[32m[I 2023-07-07 18:44:21,471]\u001b[0m Trial 13 finished with value: 0.7815245110246186 and parameters: {'penalty': 'l2', 'solver': 'newton-cg', 'C': 0.16480123327410612}. Best is trial 13 with value: 0.7815245110246186.\u001b[0m\n",
      "\u001b[32m[I 2023-07-07 18:44:25,838]\u001b[0m Trial 14 finished with value: 0.7835566539843033 and parameters: {'penalty': 'l2', 'solver': 'newton-cg', 'C': 0.12972084632917036}. Best is trial 14 with value: 0.7835566539843033.\u001b[0m\n"
     ]
    },
    {
     "data": {
      "text/html": [
       "<style>#sk-container-id-1 {color: black;background-color: white;}#sk-container-id-1 pre{padding: 0;}#sk-container-id-1 div.sk-toggleable {background-color: white;}#sk-container-id-1 label.sk-toggleable__label {cursor: pointer;display: block;width: 100%;margin-bottom: 0;padding: 0.3em;box-sizing: border-box;text-align: center;}#sk-container-id-1 label.sk-toggleable__label-arrow:before {content: \"▸\";float: left;margin-right: 0.25em;color: #696969;}#sk-container-id-1 label.sk-toggleable__label-arrow:hover:before {color: black;}#sk-container-id-1 div.sk-estimator:hover label.sk-toggleable__label-arrow:before {color: black;}#sk-container-id-1 div.sk-toggleable__content {max-height: 0;max-width: 0;overflow: hidden;text-align: left;background-color: #f0f8ff;}#sk-container-id-1 div.sk-toggleable__content pre {margin: 0.2em;color: black;border-radius: 0.25em;background-color: #f0f8ff;}#sk-container-id-1 input.sk-toggleable__control:checked~div.sk-toggleable__content {max-height: 200px;max-width: 100%;overflow: auto;}#sk-container-id-1 input.sk-toggleable__control:checked~label.sk-toggleable__label-arrow:before {content: \"▾\";}#sk-container-id-1 div.sk-estimator input.sk-toggleable__control:checked~label.sk-toggleable__label {background-color: #d4ebff;}#sk-container-id-1 div.sk-label input.sk-toggleable__control:checked~label.sk-toggleable__label {background-color: #d4ebff;}#sk-container-id-1 input.sk-hidden--visually {border: 0;clip: rect(1px 1px 1px 1px);clip: rect(1px, 1px, 1px, 1px);height: 1px;margin: -1px;overflow: hidden;padding: 0;position: absolute;width: 1px;}#sk-container-id-1 div.sk-estimator {font-family: monospace;background-color: #f0f8ff;border: 1px dotted black;border-radius: 0.25em;box-sizing: border-box;margin-bottom: 0.5em;}#sk-container-id-1 div.sk-estimator:hover {background-color: #d4ebff;}#sk-container-id-1 div.sk-parallel-item::after {content: \"\";width: 100%;border-bottom: 1px solid gray;flex-grow: 1;}#sk-container-id-1 div.sk-label:hover label.sk-toggleable__label {background-color: #d4ebff;}#sk-container-id-1 div.sk-serial::before {content: \"\";position: absolute;border-left: 1px solid gray;box-sizing: border-box;top: 0;bottom: 0;left: 50%;z-index: 0;}#sk-container-id-1 div.sk-serial {display: flex;flex-direction: column;align-items: center;background-color: white;padding-right: 0.2em;padding-left: 0.2em;position: relative;}#sk-container-id-1 div.sk-item {position: relative;z-index: 1;}#sk-container-id-1 div.sk-parallel {display: flex;align-items: stretch;justify-content: center;background-color: white;position: relative;}#sk-container-id-1 div.sk-item::before, #sk-container-id-1 div.sk-parallel-item::before {content: \"\";position: absolute;border-left: 1px solid gray;box-sizing: border-box;top: 0;bottom: 0;left: 50%;z-index: -1;}#sk-container-id-1 div.sk-parallel-item {display: flex;flex-direction: column;z-index: 1;position: relative;background-color: white;}#sk-container-id-1 div.sk-parallel-item:first-child::after {align-self: flex-end;width: 50%;}#sk-container-id-1 div.sk-parallel-item:last-child::after {align-self: flex-start;width: 50%;}#sk-container-id-1 div.sk-parallel-item:only-child::after {width: 0;}#sk-container-id-1 div.sk-dashed-wrapped {border: 1px dashed gray;margin: 0 0.4em 0.5em 0.4em;box-sizing: border-box;padding-bottom: 0.4em;background-color: white;}#sk-container-id-1 div.sk-label label {font-family: monospace;font-weight: bold;display: inline-block;line-height: 1.2em;}#sk-container-id-1 div.sk-label-container {text-align: center;}#sk-container-id-1 div.sk-container {/* jupyter's `normalize.less` sets `[hidden] { display: none; }` but bootstrap.min.css set `[hidden] { display: none !important; }` so we also need the `!important` here to be able to override the default hidden behavior on the sphinx rendered scikit-learn.org. See: https://github.com/scikit-learn/scikit-learn/issues/21755 */display: inline-block !important;position: relative;}#sk-container-id-1 div.sk-text-repr-fallback {display: none;}</style><div id=\"sk-container-id-1\" class=\"sk-top-container\"><div class=\"sk-text-repr-fallback\"><pre>LogisticRegression(C=0.12972084632917036, random_state=42, solver=&#x27;newton-cg&#x27;)</pre><b>In a Jupyter environment, please rerun this cell to show the HTML representation or trust the notebook. <br />On GitHub, the HTML representation is unable to render, please try loading this page with nbviewer.org.</b></div><div class=\"sk-container\" hidden><div class=\"sk-item\"><div class=\"sk-estimator sk-toggleable\"><input class=\"sk-toggleable__control sk-hidden--visually\" id=\"sk-estimator-id-1\" type=\"checkbox\" checked><label for=\"sk-estimator-id-1\" class=\"sk-toggleable__label sk-toggleable__label-arrow\">LogisticRegression</label><div class=\"sk-toggleable__content\"><pre>LogisticRegression(C=0.12972084632917036, random_state=42, solver=&#x27;newton-cg&#x27;)</pre></div></div></div></div></div>"
      ],
      "text/plain": [
       "LogisticRegression(C=0.12972084632917036, random_state=42, solver='newton-cg')"
      ]
     },
     "execution_count": 20,
     "metadata": {},
     "output_type": "execute_result"
    }
   ],
   "source": [
    "# cоздаем объект исследования для нашего набора гиперпараметров\n",
    "# можем напрямую указать, что нам необходимо максимизировать метрику direction=\"maximize\"\n",
    "study = optuna.create_study(study_name=\"LogisticRegression\", direction=\"maximize\")\n",
    "# ищем лучшую комбинацию гиперпараметров n_trials=15 раз\n",
    "study.optimize(optuna_log, n_trials=15)\n",
    "\n",
    "# создадим и обучим модель\n",
    "model_optuna_log = linear_model.LogisticRegression(**study.best_params,random_state=random_state)\n",
    "model_optuna_log.fit(X_train, y_train)"
   ]
  },
  {
   "cell_type": "code",
   "execution_count": 21,
   "metadata": {},
   "outputs": [
    {
     "name": "stdout",
     "output_type": "stream",
     "text": [
      "f1_score на тренировочном наборе: 0.85\n",
      "f1_score на тестовом наборе: 0.79\n"
     ]
    }
   ],
   "source": [
    "# строим предсказания и выводим значения метрики f1 на тестовой и тренировочной выборках\n",
    "y_train_pred = model_optuna_log.predict(X_train)\n",
    "print('f1_score на тренировочном наборе: {:.2f}'.format(metrics.f1_score(y_train, y_train_pred)))\n",
    "y_test_pred = model_optuna_log.predict(X_test)\n",
    "print('f1_score на тестовом наборе: {:.2f}'.format(metrics.f1_score(y_test, y_test_pred)))"
   ]
  },
  {
   "attachments": {},
   "cell_type": "markdown",
   "metadata": {},
   "source": [
    "И теперь проведем подборку гиперпараметров методом Optuna для случайного леса."
   ]
  },
  {
   "cell_type": "code",
   "execution_count": 24,
   "metadata": {},
   "outputs": [
    {
     "name": "stderr",
     "output_type": "stream",
     "text": [
      "\u001b[32m[I 2023-07-07 18:48:52,102]\u001b[0m A new study created in memory with name: RandomForestClassifier\u001b[0m\n"
     ]
    },
    {
     "name": "stderr",
     "output_type": "stream",
     "text": [
      "\u001b[32m[I 2023-07-07 18:48:54,074]\u001b[0m Trial 0 finished with value: 0.9387008234217749 and parameters: {'n_estimators': 175, 'max_depth': 11, 'min_samples_leaf': 3}. Best is trial 0 with value: 0.9387008234217749.\u001b[0m\n",
      "\u001b[32m[I 2023-07-07 18:48:57,484]\u001b[0m Trial 1 finished with value: 0.9336594313665546 and parameters: {'n_estimators': 295, 'max_depth': 27, 'min_samples_leaf': 6}. Best is trial 0 with value: 0.9387008234217749.\u001b[0m\n",
      "\u001b[32m[I 2023-07-07 18:48:59,606]\u001b[0m Trial 2 finished with value: 0.9272616136919315 and parameters: {'n_estimators': 190, 'max_depth': 29, 'min_samples_leaf': 7}. Best is trial 0 with value: 0.9387008234217749.\u001b[0m\n",
      "\u001b[32m[I 2023-07-07 18:49:02,448]\u001b[0m Trial 3 finished with value: 0.9578754578754579 and parameters: {'n_estimators': 235, 'max_depth': 13, 'min_samples_leaf': 3}. Best is trial 3 with value: 0.9578754578754579.\u001b[0m\n",
      "\u001b[32m[I 2023-07-07 18:49:03,649]\u001b[0m Trial 4 finished with value: 0.9332516840171464 and parameters: {'n_estimators': 100, 'max_depth': 23, 'min_samples_leaf': 6}. Best is trial 3 with value: 0.9578754578754579.\u001b[0m\n",
      "\u001b[32m[I 2023-07-07 18:49:05,995]\u001b[0m Trial 5 finished with value: 0.8999692212988611 and parameters: {'n_estimators': 250, 'max_depth': 9, 'min_samples_leaf': 4}. Best is trial 3 with value: 0.9578754578754579.\u001b[0m\n",
      "\u001b[32m[I 2023-07-07 18:49:07,618]\u001b[0m Trial 6 finished with value: 0.9270674397314617 and parameters: {'n_estimators': 145, 'max_depth': 13, 'min_samples_leaf': 6}. Best is trial 3 with value: 0.9578754578754579.\u001b[0m\n",
      "\u001b[32m[I 2023-07-07 18:49:10,286]\u001b[0m Trial 7 finished with value: 0.8861689106487148 and parameters: {'n_estimators': 295, 'max_depth': 9, 'min_samples_leaf': 6}. Best is trial 3 with value: 0.9578754578754579.\u001b[0m\n",
      "\u001b[32m[I 2023-07-07 18:49:11,882]\u001b[0m Trial 8 finished with value: 0.9276777540433324 and parameters: {'n_estimators': 145, 'max_depth': 11, 'min_samples_leaf': 4}. Best is trial 3 with value: 0.9578754578754579.\u001b[0m\n",
      "\u001b[32m[I 2023-07-07 18:49:15,396]\u001b[0m Trial 9 finished with value: 0.977655341291705 and parameters: {'n_estimators': 265, 'max_depth': 27, 'min_samples_leaf': 3}. Best is trial 9 with value: 0.977655341291705.\u001b[0m\n",
      "\u001b[32m[I 2023-07-07 18:49:18,515]\u001b[0m Trial 10 finished with value: 0.9590464547677262 and parameters: {'n_estimators': 250, 'max_depth': 19, 'min_samples_leaf': 4}. Best is trial 9 with value: 0.977655341291705.\u001b[0m\n",
      "\u001b[32m[I 2023-07-07 18:49:21,690]\u001b[0m Trial 11 finished with value: 0.9590464547677262 and parameters: {'n_estimators': 250, 'max_depth': 19, 'min_samples_leaf': 4}. Best is trial 9 with value: 0.977655341291705.\u001b[0m\n",
      "\u001b[32m[I 2023-07-07 18:49:24,566]\u001b[0m Trial 12 finished with value: 0.9755052051439068 and parameters: {'n_estimators': 220, 'max_depth': 17, 'min_samples_leaf': 3}. Best is trial 9 with value: 0.977655341291705.\u001b[0m\n",
      "\u001b[32m[I 2023-07-07 18:49:27,572]\u001b[0m Trial 13 finished with value: 0.9767441860465117 and parameters: {'n_estimators': 220, 'max_depth': 23, 'min_samples_leaf': 3}. Best is trial 9 with value: 0.977655341291705.\u001b[0m\n",
      "\u001b[32m[I 2023-07-07 18:49:30,947]\u001b[0m Trial 14 finished with value: 0.9463414634146341 and parameters: {'n_estimators': 280, 'max_depth': 25, 'min_samples_leaf': 5}. Best is trial 9 with value: 0.977655341291705.\u001b[0m\n",
      "\u001b[32m[I 2023-07-07 18:49:33,701]\u001b[0m Trial 15 finished with value: 0.9779546846295162 and parameters: {'n_estimators': 205, 'max_depth': 23, 'min_samples_leaf': 3}. Best is trial 15 with value: 0.9779546846295162.\u001b[0m\n",
      "\u001b[32m[I 2023-07-07 18:49:35,643]\u001b[0m Trial 16 finished with value: 0.9469512195121951 and parameters: {'n_estimators': 160, 'max_depth': 29, 'min_samples_leaf': 5}. Best is trial 15 with value: 0.9779546846295162.\u001b[0m\n",
      "\u001b[32m[I 2023-07-07 18:49:38,461]\u001b[0m Trial 17 finished with value: 0.9779546846295162 and parameters: {'n_estimators': 205, 'max_depth': 23, 'min_samples_leaf': 3}. Best is trial 15 with value: 0.9779546846295162.\u001b[0m\n",
      "\u001b[32m[I 2023-07-07 18:49:41,044]\u001b[0m Trial 18 finished with value: 0.9587029672682778 and parameters: {'n_estimators': 205, 'max_depth': 21, 'min_samples_leaf': 4}. Best is trial 15 with value: 0.9779546846295162.\u001b[0m\n",
      "\u001b[32m[I 2023-07-07 18:49:42,443]\u001b[0m Trial 19 finished with value: 0.9427609427609427 and parameters: {'n_estimators': 115, 'max_depth': 17, 'min_samples_leaf': 5}. Best is trial 15 with value: 0.9779546846295162.\u001b[0m\n",
      "\u001b[32m[I 2023-07-07 18:49:44,991]\u001b[0m Trial 20 finished with value: 0.9779546846295162 and parameters: {'n_estimators': 190, 'max_depth': 23, 'min_samples_leaf': 3}. Best is trial 15 with value: 0.9779546846295162.\u001b[0m\n",
      "\u001b[32m[I 2023-07-07 18:49:47,557]\u001b[0m Trial 21 finished with value: 0.9779546846295162 and parameters: {'n_estimators': 190, 'max_depth': 23, 'min_samples_leaf': 3}. Best is trial 15 with value: 0.9779546846295162.\u001b[0m\n",
      "\u001b[32m[I 2023-07-07 18:49:50,287]\u001b[0m Trial 22 finished with value: 0.9764309764309764 and parameters: {'n_estimators': 205, 'max_depth': 21, 'min_samples_leaf': 3}. Best is trial 15 with value: 0.9779546846295162.\u001b[0m\n",
      "\u001b[32m[I 2023-07-07 18:49:52,511]\u001b[0m Trial 23 finished with value: 0.9577464788732394 and parameters: {'n_estimators': 175, 'max_depth': 25, 'min_samples_leaf': 4}. Best is trial 15 with value: 0.9779546846295162.\u001b[0m\n",
      "\u001b[32m[I 2023-07-07 18:49:55,434]\u001b[0m Trial 24 finished with value: 0.9761321909424725 and parameters: {'n_estimators': 220, 'max_depth': 21, 'min_samples_leaf': 3}. Best is trial 15 with value: 0.9779546846295162.\u001b[0m\n"
     ]
    }
   ],
   "source": [
    "def optuna_rf(trial):\n",
    "  # задаем пространства поиска гиперпараметров\n",
    "  n_estimators = trial.suggest_int('n_estimators', 100, 295, 15)\n",
    "  max_depth = trial.suggest_int('max_depth', 7, 29, 2)\n",
    "  min_samples_leaf = trial.suggest_int('min_samples_leaf', 3, 7, 1)\n",
    "\n",
    "  # создаем модель\n",
    "  model = ensemble.RandomForestClassifier(n_estimators=n_estimators,\n",
    "                                          max_depth=max_depth,\n",
    "                                          min_samples_leaf=min_samples_leaf,\n",
    "                                          random_state=42)\n",
    "  # обучаем модель\n",
    "  model.fit(X_train, y_train)\n",
    "  score = metrics.f1_score(y_train, model.predict(X_train))\n",
    "\n",
    "  return score\n",
    "\n",
    "# cоздаем объект исследования\n",
    "study = optuna.create_study(study_name=\"RandomForestClassifier\", direction=\"maximize\")\n",
    "# ищем лучшую комбинацию гиперпараметров n_trials раз\n",
    "study.optimize(optuna_rf, n_trials=25)"
   ]
  },
  {
   "cell_type": "code",
   "execution_count": 25,
   "metadata": {},
   "outputs": [
    {
     "name": "stdout",
     "output_type": "stream",
     "text": [
      "f1_score на тренировочном наборе: 0.85\n",
      "f1_score на тестовом наборе: 0.79\n"
     ]
    }
   ],
   "source": [
    "# создадим и обучим модель\n",
    "model_optuna_rf = ensemble.RandomForestClassifier(**study.best_params,random_state=random_state, )\n",
    "model_optuna_rf.fit(X_train, y_train)\n",
    "\n",
    "# строим предсказания и выводим значения метрики f1 на тестовой и тренировочной выборках\n",
    "y_train_pred = model_optuna_log.predict(X_train)\n",
    "print('f1_score на тренировочном наборе: {:.2f}'.format(metrics.f1_score(y_train, y_train_pred)))\n",
    "y_test_pred = model_optuna_log.predict(X_test)\n",
    "print('f1_score на тестовом наборе: {:.2f}'.format(metrics.f1_score(y_test, y_test_pred)))"
   ]
  },
  {
   "attachments": {},
   "cell_type": "markdown",
   "metadata": {},
   "source": [
    "## <center> Вывод"
   ]
  },
  {
   "attachments": {},
   "cell_type": "markdown",
   "metadata": {},
   "source": [
    "Мы провели оптимизацию гиперпараметров с помощью разных алгоритмов на модели случайного леса и логистической регрессии. \n",
    "Выведем все значения f1 метрики на тестовой выборке в таблицу. \n",
    "\n",
    "<img src = 'data/2.png'> \n"
   ]
  },
  {
   "attachments": {},
   "cell_type": "markdown",
   "metadata": {},
   "source": [
    "Для логистической регрессии все способы оптимизации дали результаты лучше, чем базовый с настройками по умолчанию, самый лучший результат метрики дал Hyperopt.\n",
    "\n",
    "Для модели случайного леса на переданных комбинациях гиперпараметров метрика f1 оказалось лучшей так же у Hyperopt. Остальные способы оптимизации показали метрку чуть ниже, чем baseline вариант, созданный с настройками по умолчанию. \n",
    "\n"
   ]
  }
 ],
 "metadata": {
  "kernelspec": {
   "display_name": "Python 3",
   "language": "python",
   "name": "python3"
  },
  "language_info": {
   "codemirror_mode": {
    "name": "ipython",
    "version": 3
   },
   "file_extension": ".py",
   "mimetype": "text/x-python",
   "name": "python",
   "nbconvert_exporter": "python",
   "pygments_lexer": "ipython3",
   "version": "3.10.10"
  },
  "orig_nbformat": 4
 },
 "nbformat": 4,
 "nbformat_minor": 2
}
